{
 "cells": [
  {
   "cell_type": "markdown",
   "metadata": {},
   "source": [
    "# Desafio Universidade dos Dados – Auxiliando os Times de Marketing e Pricing da Empresa de Delivery\n",
    "\n",
    "Trabalhamos em uma empresa de delivery, em um time de dados centralizado que atende a diversas áreas e recebemos algumas demandas:\n",
    "\n",
    "- Numa ação de marketing, para atrair mais entregadores, vamos dar uma bonificação para os 20 entregadores que possuem maior distância percorrida ao todo. A bonificação vai variar de acordo com o tipo de profissional que ele é e o modelo que ele usa para se locomover (moto, bike, etc). Levante essas informações.\n",
    "- Além disso, o time de Pricing precisa ajustar os valores pagos aos entregadores. Para isso, eles precisam da distribuição da distância média percorrida pelos motoqueiros separada por estado, já que cada região terá seu preço.\n",
    "- Por fim, o CFO precisa de alguns indicadores de receita para apresentar para a diretoria executiva. Dentre esses indicadores, vocês precisarão levantar (1) a receita média e total separada por tipo (Food x Good), (2) A receita média e total por estado. Ou seja, são 4 tabelas ao todo.\n",
    "- Se a empresa tem um gasto fixo de 5 reais por entrega, recebe 15% do valor de cada entrega como receita e, do total do lucro, distribui 20% em forma de bônus para os 2 mil funcionários, quanto cada um irá receber no período contido no dataset?"
   ]
  },
  {
   "cell_type": "markdown",
   "metadata": {},
   "source": [
    "![deli](https://api-club-file.cb.hotmart.com/public/v5/files/9711f751-25cd-468f-869a-e92a9eca2362)"
   ]
  },
  {
   "cell_type": "markdown",
   "metadata": {},
   "source": [
    "# 1. Preparação do ambiente"
   ]
  },
  {
   "cell_type": "markdown",
   "metadata": {},
   "source": [
    "## 1.1. Importação das bibliotecas e carregamento dos dados"
   ]
  },
  {
   "cell_type": "code",
   "execution_count": 1,
   "metadata": {},
   "outputs": [],
   "source": [
    "# Manipulação de dados\n",
    "import pandas as pd\n",
    "import numpy as np\n",
    "import sqlalchemy\n",
    "\n",
    "# Análise Exploratória de Dados\n",
    "import matplotlib.pyplot as plt\n",
    "import seaborn as sns\n",
    "\n",
    "# Configurações do notebook\n",
    "import warnings\n",
    "warnings.filterwarnings('ignore')\n",
    "plt.style.use('fivethirtyeight')\n",
    "my_palette = sns.color_palette([\"#651A19\", \"#6F1D1B\", \"#BB9457\", \"#7F5E38\", \"#432818\", \"#99582A\", \"#CC9F69\", \"#FFE6A7\"])\n",
    "sns.set_palette(my_palette)\n",
    "pd.set_option('display.max_rows', 20)\n",
    "pd.set_option('display.max_columns', 40)"
   ]
  },
  {
   "cell_type": "code",
   "execution_count": 2,
   "metadata": {},
   "outputs": [
    {
     "data": {
      "image/png": "[encoded data removed]",
      "text/plain": [
       "<Figure size 800x100 with 1 Axes>"
      ]
     },
     "metadata": {},
     "output_type": "display_data"
    }
   ],
   "source": [
    "plt.figure(figsize=(8, 1))\n",
    "\n",
    "for i, cor in enumerate(my_palette):\n",
    "    plt.fill_between([i, i + 1], 0, 1, color=cor)\n",
    "\n",
    "plt.axis('off')\n",
    "plt.title('Paleta de Cores', fontsize = 10)\n",
    "plt.show()"
   ]
  },
  {
   "cell_type": "code",
   "execution_count": 3,
   "metadata": {},
   "outputs": [],
   "source": [
    "db_path = '../data/processed/database.db'\n",
    "engine = sqlalchemy.create_engine(f\"sqlite:///{db_path}\")\n",
    "\n",
    "with open ('query.sql', 'r') as open_file:\n",
    "    query = open_file.read()\n",
    "\n",
    "df = pd.read_sql(query, engine)"
   ]
  },
  {
   "cell_type": "markdown",
   "metadata": {},
   "source": [
    "## 1.2. Check-up dos dados\n",
    "\n",
    "O dataset utilizado foi gerado a partir de uma séries de consultas SQL a partir dos dados originais, agora é o momento de observar sua estrutura."
   ]
  },
  {
   "cell_type": "code",
   "execution_count": 4,
   "metadata": {},
   "outputs": [
    {
     "name": "stdout",
     "output_type": "stream",
     "text": [
      "O dataset tem 418855 linhas e 11 colunas.\n",
      "Possui 7 colunas numéricas.\n",
      "Possui 4 colunas categóricas.\n"
     ]
    }
   ],
   "source": [
    "print(f\"O dataset tem {df.shape[0]} linhas e {df.shape[1]} colunas.\")\n",
    "print(f\"Possui {len(df.select_dtypes(include = 'number').columns.to_list())} colunas numéricas.\")\n",
    "print(f\"Possui {len(df.select_dtypes(include = 'object').columns.to_list())} colunas categóricas.\")"
   ]
  },
  {
   "cell_type": "code",
   "execution_count": 5,
   "metadata": {},
   "outputs": [
    {
     "data": {
      "text/html": [
       "<div>\n",
       "<style scoped>\n",
       "    .dataframe tbody tr th:only-of-type {\n",
       "        vertical-align: middle;\n",
       "    }\n",
       "\n",
       "    .dataframe tbody tr th {\n",
       "        vertical-align: top;\n",
       "    }\n",
       "\n",
       "    .dataframe thead th {\n",
       "        text-align: right;\n",
       "    }\n",
       "</style>\n",
       "<table border=\"1\" class=\"dataframe\">\n",
       "  <thead>\n",
       "    <tr style=\"text-align: right;\">\n",
       "      <th></th>\n",
       "      <th>dt_ref</th>\n",
       "      <th>order_id</th>\n",
       "      <th>store_id</th>\n",
       "      <th>payment_amount</th>\n",
       "      <th>payment_fee</th>\n",
       "      <th>order_revenue</th>\n",
       "      <th>driver_id</th>\n",
       "      <th>delivery_distance_meters</th>\n",
       "      <th>driver_modal</th>\n",
       "      <th>store_segment</th>\n",
       "      <th>hub_state</th>\n",
       "    </tr>\n",
       "  </thead>\n",
       "  <tbody>\n",
       "    <tr>\n",
       "      <th>0</th>\n",
       "      <td>2024-07-08</td>\n",
       "      <td>68410055</td>\n",
       "      <td>2181</td>\n",
       "      <td>118.44</td>\n",
       "      <td>0.00</td>\n",
       "      <td>12.7660</td>\n",
       "      <td>10239.0</td>\n",
       "      <td>1035.0</td>\n",
       "      <td>BIKER</td>\n",
       "      <td>GOOD</td>\n",
       "      <td>RJ</td>\n",
       "    </tr>\n",
       "    <tr>\n",
       "      <th>1</th>\n",
       "      <td>2024-07-08</td>\n",
       "      <td>68410055</td>\n",
       "      <td>2181</td>\n",
       "      <td>394.81</td>\n",
       "      <td>7.90</td>\n",
       "      <td>53.0365</td>\n",
       "      <td>10239.0</td>\n",
       "      <td>1035.0</td>\n",
       "      <td>BIKER</td>\n",
       "      <td>GOOD</td>\n",
       "      <td>RJ</td>\n",
       "    </tr>\n",
       "    <tr>\n",
       "      <th>2</th>\n",
       "      <td>2024-07-08</td>\n",
       "      <td>68412721</td>\n",
       "      <td>631</td>\n",
       "      <td>206.95</td>\n",
       "      <td>5.59</td>\n",
       "      <td>25.2040</td>\n",
       "      <td>8378.0</td>\n",
       "      <td>5714.0</td>\n",
       "      <td>MOTOBOY</td>\n",
       "      <td>FOOD</td>\n",
       "      <td>SP</td>\n",
       "    </tr>\n",
       "    <tr>\n",
       "      <th>3</th>\n",
       "      <td>2024-07-08</td>\n",
       "      <td>68413340</td>\n",
       "      <td>631</td>\n",
       "      <td>58.80</td>\n",
       "      <td>1.59</td>\n",
       "      <td>3.5815</td>\n",
       "      <td>8378.0</td>\n",
       "      <td>5199.0</td>\n",
       "      <td>MOTOBOY</td>\n",
       "      <td>FOOD</td>\n",
       "      <td>SP</td>\n",
       "    </tr>\n",
       "    <tr>\n",
       "      <th>4</th>\n",
       "      <td>2024-07-08</td>\n",
       "      <td>68414018</td>\n",
       "      <td>3265</td>\n",
       "      <td>45.80</td>\n",
       "      <td>0.92</td>\n",
       "      <td>1.7320</td>\n",
       "      <td>10463.0</td>\n",
       "      <td>3746.0</td>\n",
       "      <td>MOTOBOY</td>\n",
       "      <td>FOOD</td>\n",
       "      <td>SP</td>\n",
       "    </tr>\n",
       "  </tbody>\n",
       "</table>\n",
       "</div>"
      ],
      "text/plain": [
       "       dt_ref  order_id  store_id  payment_amount  payment_fee  order_revenue  \\\n",
       "0  2024-07-08  68410055      2181          118.44         0.00        12.7660   \n",
       "1  2024-07-08  68410055      2181          394.81         7.90        53.0365   \n",
       "2  2024-07-08  68412721       631          206.95         5.59        25.2040   \n",
       "3  2024-07-08  68413340       631           58.80         1.59         3.5815   \n",
       "4  2024-07-08  68414018      3265           45.80         0.92         1.7320   \n",
       "\n",
       "   driver_id  delivery_distance_meters driver_modal store_segment hub_state  \n",
       "0    10239.0                    1035.0        BIKER          GOOD        RJ  \n",
       "1    10239.0                    1035.0        BIKER          GOOD        RJ  \n",
       "2     8378.0                    5714.0      MOTOBOY          FOOD        SP  \n",
       "3     8378.0                    5199.0      MOTOBOY          FOOD        SP  \n",
       "4    10463.0                    3746.0      MOTOBOY          FOOD        SP  "
      ]
     },
     "execution_count": 5,
     "metadata": {},
     "output_type": "execute_result"
    }
   ],
   "source": [
    "df.head()"
   ]
  },
  {
   "cell_type": "code",
   "execution_count": 6,
   "metadata": {},
   "outputs": [
    {
     "data": {
      "text/html": [
       "<div>\n",
       "<style scoped>\n",
       "    .dataframe tbody tr th:only-of-type {\n",
       "        vertical-align: middle;\n",
       "    }\n",
       "\n",
       "    .dataframe tbody tr th {\n",
       "        vertical-align: top;\n",
       "    }\n",
       "\n",
       "    .dataframe thead th {\n",
       "        text-align: right;\n",
       "    }\n",
       "</style>\n",
       "<table border=\"1\" class=\"dataframe\">\n",
       "  <thead>\n",
       "    <tr style=\"text-align: right;\">\n",
       "      <th></th>\n",
       "      <th>dt_ref</th>\n",
       "      <th>order_id</th>\n",
       "      <th>store_id</th>\n",
       "      <th>payment_amount</th>\n",
       "      <th>payment_fee</th>\n",
       "      <th>order_revenue</th>\n",
       "      <th>driver_id</th>\n",
       "      <th>delivery_distance_meters</th>\n",
       "      <th>driver_modal</th>\n",
       "      <th>store_segment</th>\n",
       "      <th>hub_state</th>\n",
       "    </tr>\n",
       "  </thead>\n",
       "  <tbody>\n",
       "    <tr>\n",
       "      <th>418850</th>\n",
       "      <td>2024-07-08</td>\n",
       "      <td>93139806</td>\n",
       "      <td>2074</td>\n",
       "      <td>28.0</td>\n",
       "      <td>0.42</td>\n",
       "      <td>-0.8630</td>\n",
       "      <td>NaN</td>\n",
       "      <td>1967.0</td>\n",
       "      <td>None</td>\n",
       "      <td>FOOD</td>\n",
       "      <td>PR</td>\n",
       "    </tr>\n",
       "    <tr>\n",
       "      <th>418851</th>\n",
       "      <td>2024-07-08</td>\n",
       "      <td>93139809</td>\n",
       "      <td>707</td>\n",
       "      <td>60.9</td>\n",
       "      <td>1.64</td>\n",
       "      <td>3.8890</td>\n",
       "      <td>61781.0</td>\n",
       "      <td>3735.0</td>\n",
       "      <td>MOTOBOY</td>\n",
       "      <td>FOOD</td>\n",
       "      <td>SP</td>\n",
       "    </tr>\n",
       "    <tr>\n",
       "      <th>418852</th>\n",
       "      <td>2024-07-08</td>\n",
       "      <td>93139813</td>\n",
       "      <td>631</td>\n",
       "      <td>140.6</td>\n",
       "      <td>3.80</td>\n",
       "      <td>15.5200</td>\n",
       "      <td>6657.0</td>\n",
       "      <td>3931.0</td>\n",
       "      <td>MOTOBOY</td>\n",
       "      <td>FOOD</td>\n",
       "      <td>SP</td>\n",
       "    </tr>\n",
       "    <tr>\n",
       "      <th>418853</th>\n",
       "      <td>2024-07-08</td>\n",
       "      <td>93139814</td>\n",
       "      <td>631</td>\n",
       "      <td>139.3</td>\n",
       "      <td>3.76</td>\n",
       "      <td>15.3310</td>\n",
       "      <td>15528.0</td>\n",
       "      <td>978.0</td>\n",
       "      <td>BIKER</td>\n",
       "      <td>FOOD</td>\n",
       "      <td>SP</td>\n",
       "    </tr>\n",
       "    <tr>\n",
       "      <th>418854</th>\n",
       "      <td>2024-07-08</td>\n",
       "      <td>93139817</td>\n",
       "      <td>236</td>\n",
       "      <td>116.6</td>\n",
       "      <td>3.15</td>\n",
       "      <td>12.0175</td>\n",
       "      <td>6646.0</td>\n",
       "      <td>4092.0</td>\n",
       "      <td>MOTOBOY</td>\n",
       "      <td>FOOD</td>\n",
       "      <td>RJ</td>\n",
       "    </tr>\n",
       "  </tbody>\n",
       "</table>\n",
       "</div>"
      ],
      "text/plain": [
       "            dt_ref  order_id  store_id  payment_amount  payment_fee  \\\n",
       "418850  2024-07-08  93139806      2074            28.0         0.42   \n",
       "418851  2024-07-08  93139809       707            60.9         1.64   \n",
       "418852  2024-07-08  93139813       631           140.6         3.80   \n",
       "418853  2024-07-08  93139814       631           139.3         3.76   \n",
       "418854  2024-07-08  93139817       236           116.6         3.15   \n",
       "\n",
       "        order_revenue  driver_id  delivery_distance_meters driver_modal  \\\n",
       "418850        -0.8630        NaN                    1967.0         None   \n",
       "418851         3.8890    61781.0                    3735.0      MOTOBOY   \n",
       "418852        15.5200     6657.0                    3931.0      MOTOBOY   \n",
       "418853        15.3310    15528.0                     978.0        BIKER   \n",
       "418854        12.0175     6646.0                    4092.0      MOTOBOY   \n",
       "\n",
       "       store_segment hub_state  \n",
       "418850          FOOD        PR  \n",
       "418851          FOOD        SP  \n",
       "418852          FOOD        SP  \n",
       "418853          FOOD        SP  \n",
       "418854          FOOD        RJ  "
      ]
     },
     "execution_count": 6,
     "metadata": {},
     "output_type": "execute_result"
    }
   ],
   "source": [
    "df.tail()"
   ]
  },
  {
   "cell_type": "code",
   "execution_count": 7,
   "metadata": {},
   "outputs": [
    {
     "name": "stdout",
     "output_type": "stream",
     "text": [
      "<class 'pandas.core.frame.DataFrame'>\n",
      "RangeIndex: 418855 entries, 0 to 418854\n",
      "Data columns (total 11 columns):\n",
      " #   Column                    Non-Null Count   Dtype  \n",
      "---  ------                    --------------   -----  \n",
      " 0   dt_ref                    418855 non-null  object \n",
      " 1   order_id                  418855 non-null  int64  \n",
      " 2   store_id                  418855 non-null  int64  \n",
      " 3   payment_amount            418855 non-null  float64\n",
      " 4   payment_fee               418855 non-null  float64\n",
      " 5   order_revenue             418855 non-null  float64\n",
      " 6   driver_id                 410228 non-null  float64\n",
      " 7   delivery_distance_meters  418800 non-null  float64\n",
      " 8   driver_modal              410228 non-null  object \n",
      " 9   store_segment             418855 non-null  object \n",
      " 10  hub_state                 418855 non-null  object \n",
      "dtypes: float64(5), int64(2), object(4)\n",
      "memory usage: 35.2+ MB\n"
     ]
    }
   ],
   "source": [
    "df.info()"
   ]
  },
  {
   "cell_type": "markdown",
   "metadata": {},
   "source": [
    "Existem várias entregas com dados nulos em relação aos motoristas e seu meio de transporte. "
   ]
  },
  {
   "cell_type": "code",
   "execution_count": 8,
   "metadata": {},
   "outputs": [
    {
     "data": {
      "text/html": [
       "<div>\n",
       "<style scoped>\n",
       "    .dataframe tbody tr th:only-of-type {\n",
       "        vertical-align: middle;\n",
       "    }\n",
       "\n",
       "    .dataframe tbody tr th {\n",
       "        vertical-align: top;\n",
       "    }\n",
       "\n",
       "    .dataframe thead th {\n",
       "        text-align: right;\n",
       "    }\n",
       "</style>\n",
       "<table border=\"1\" class=\"dataframe\">\n",
       "  <thead>\n",
       "    <tr style=\"text-align: right;\">\n",
       "      <th></th>\n",
       "      <th>count</th>\n",
       "      <th>mean</th>\n",
       "      <th>std</th>\n",
       "      <th>min</th>\n",
       "      <th>25%</th>\n",
       "      <th>50%</th>\n",
       "      <th>75%</th>\n",
       "      <th>max</th>\n",
       "    </tr>\n",
       "  </thead>\n",
       "  <tbody>\n",
       "    <tr>\n",
       "      <th>order_id</th>\n",
       "      <td>418855.0</td>\n",
       "      <td>82347830.26</td>\n",
       "      <td>6973749.16</td>\n",
       "      <td>68410055.0</td>\n",
       "      <td>76587293.50</td>\n",
       "      <td>83235930.00</td>\n",
       "      <td>87939029.50</td>\n",
       "      <td>93139817.00</td>\n",
       "    </tr>\n",
       "    <tr>\n",
       "      <th>store_id</th>\n",
       "      <td>418855.0</td>\n",
       "      <td>1260.66</td>\n",
       "      <td>1181.21</td>\n",
       "      <td>6.0</td>\n",
       "      <td>415.00</td>\n",
       "      <td>780.00</td>\n",
       "      <td>1930.00</td>\n",
       "      <td>4679.00</td>\n",
       "    </tr>\n",
       "    <tr>\n",
       "      <th>payment_amount</th>\n",
       "      <td>418855.0</td>\n",
       "      <td>94.12</td>\n",
       "      <td>219.82</td>\n",
       "      <td>0.0</td>\n",
       "      <td>32.90</td>\n",
       "      <td>66.70</td>\n",
       "      <td>121.80</td>\n",
       "      <td>100000.11</td>\n",
       "    </tr>\n",
       "    <tr>\n",
       "      <th>payment_fee</th>\n",
       "      <td>418855.0</td>\n",
       "      <td>1.90</td>\n",
       "      <td>4.50</td>\n",
       "      <td>0.0</td>\n",
       "      <td>0.45</td>\n",
       "      <td>1.05</td>\n",
       "      <td>2.73</td>\n",
       "      <td>2000.00</td>\n",
       "    </tr>\n",
       "    <tr>\n",
       "      <th>order_revenue</th>\n",
       "      <td>418855.0</td>\n",
       "      <td>8.83</td>\n",
       "      <td>32.31</td>\n",
       "      <td>-5.0</td>\n",
       "      <td>-0.14</td>\n",
       "      <td>4.84</td>\n",
       "      <td>12.78</td>\n",
       "      <td>14695.02</td>\n",
       "    </tr>\n",
       "    <tr>\n",
       "      <th>driver_id</th>\n",
       "      <td>410228.0</td>\n",
       "      <td>21012.77</td>\n",
       "      <td>15468.28</td>\n",
       "      <td>133.0</td>\n",
       "      <td>7638.00</td>\n",
       "      <td>18791.00</td>\n",
       "      <td>31048.00</td>\n",
       "      <td>66459.00</td>\n",
       "    </tr>\n",
       "    <tr>\n",
       "      <th>delivery_distance_meters</th>\n",
       "      <td>418800.0</td>\n",
       "      <td>7236.69</td>\n",
       "      <td>174960.71</td>\n",
       "      <td>0.0</td>\n",
       "      <td>1162.00</td>\n",
       "      <td>2037.00</td>\n",
       "      <td>3418.00</td>\n",
       "      <td>7251291.00</td>\n",
       "    </tr>\n",
       "  </tbody>\n",
       "</table>\n",
       "</div>"
      ],
      "text/plain": [
       "                             count         mean         std         min  \\\n",
       "order_id                  418855.0  82347830.26  6973749.16  68410055.0   \n",
       "store_id                  418855.0      1260.66     1181.21         6.0   \n",
       "payment_amount            418855.0        94.12      219.82         0.0   \n",
       "payment_fee               418855.0         1.90        4.50         0.0   \n",
       "order_revenue             418855.0         8.83       32.31        -5.0   \n",
       "driver_id                 410228.0     21012.77    15468.28       133.0   \n",
       "delivery_distance_meters  418800.0      7236.69   174960.71         0.0   \n",
       "\n",
       "                                  25%          50%          75%          max  \n",
       "order_id                  76587293.50  83235930.00  87939029.50  93139817.00  \n",
       "store_id                       415.00       780.00      1930.00      4679.00  \n",
       "payment_amount                  32.90        66.70       121.80    100000.11  \n",
       "payment_fee                      0.45         1.05         2.73      2000.00  \n",
       "order_revenue                   -0.14         4.84        12.78     14695.02  \n",
       "driver_id                     7638.00     18791.00     31048.00     66459.00  \n",
       "delivery_distance_meters      1162.00      2037.00      3418.00   7251291.00  "
      ]
     },
     "execution_count": 8,
     "metadata": {},
     "output_type": "execute_result"
    }
   ],
   "source": [
    "df.describe().round(2).T"
   ]
  },
  {
   "cell_type": "markdown",
   "metadata": {},
   "source": [
    "Existem outliers alarmantes em 'delivery_distance_meters' com uma entrega de absurdos 7251291.00 metros! "
   ]
  },
  {
   "cell_type": "markdown",
   "metadata": {},
   "source": [
    "# 2. Processamento dos dados"
   ]
  },
  {
   "cell_type": "markdown",
   "metadata": {},
   "source": [
    "## 2.1. Nulos e duplicados"
   ]
  },
  {
   "cell_type": "code",
   "execution_count": 9,
   "metadata": {},
   "outputs": [
    {
     "data": {
      "text/plain": [
       "dt_ref                         0\n",
       "order_id                       0\n",
       "store_id                       0\n",
       "payment_amount                 0\n",
       "payment_fee                    0\n",
       "order_revenue                  0\n",
       "driver_id                   8627\n",
       "delivery_distance_meters      55\n",
       "driver_modal                8627\n",
       "store_segment                  0\n",
       "hub_state                      0\n",
       "dtype: int64"
      ]
     },
     "execution_count": 9,
     "metadata": {},
     "output_type": "execute_result"
    }
   ],
   "source": [
    "df.isnull().sum()"
   ]
  },
  {
   "cell_type": "markdown",
   "metadata": {},
   "source": [
    "As entregas com dados nulos dos entregadores devem ser excluídas para atender os propósitos da análise, para os nulos em 'delivery_distance_meters' acredito que a abordagem de preencher com a mediana devido à assimetria nessa variável seja o ideal."
   ]
  },
  {
   "cell_type": "code",
   "execution_count": 10,
   "metadata": {},
   "outputs": [
    {
     "name": "stdout",
     "output_type": "stream",
     "text": [
      "dt_ref\n",
      "418854\n",
      "===============\n",
      "order_id\n",
      "71726\n",
      "===============\n",
      "store_id\n",
      "417975\n",
      "===============\n",
      "payment_amount\n",
      "398712\n",
      "===============\n",
      "payment_fee\n",
      "416586\n",
      "===============\n",
      "order_revenue\n",
      "390093\n",
      "===============\n",
      "driver_id\n",
      "414287\n",
      "===============\n",
      "delivery_distance_meters\n",
      "403094\n",
      "===============\n",
      "driver_modal\n",
      "418852\n",
      "===============\n",
      "store_segment\n",
      "418853\n",
      "===============\n",
      "hub_state\n",
      "418851\n",
      "===============\n"
     ]
    }
   ],
   "source": [
    "for col in df.columns:\n",
    "    print(df[col].name)\n",
    "    print(df[col].duplicated().sum())\n",
    "    print('=' * 15)\n"
   ]
  },
  {
   "cell_type": "markdown",
   "metadata": {},
   "source": [
    "Entre os dados duplicados os únicos que vejo necessidade de deleção são os de 'order_id'."
   ]
  },
  {
   "cell_type": "code",
   "execution_count": 11,
   "metadata": {},
   "outputs": [
    {
     "name": "stdout",
     "output_type": "stream",
     "text": [
      "<class 'pandas.core.frame.DataFrame'>\n",
      "Index: 410228 entries, 0 to 418854\n",
      "Data columns (total 11 columns):\n",
      " #   Column                    Non-Null Count   Dtype  \n",
      "---  ------                    --------------   -----  \n",
      " 0   dt_ref                    410228 non-null  object \n",
      " 1   order_id                  410228 non-null  int64  \n",
      " 2   store_id                  410228 non-null  int64  \n",
      " 3   payment_amount            410228 non-null  float64\n",
      " 4   payment_fee               410228 non-null  float64\n",
      " 5   order_revenue             410228 non-null  float64\n",
      " 6   driver_id                 410228 non-null  float64\n",
      " 7   delivery_distance_meters  410199 non-null  float64\n",
      " 8   driver_modal              410228 non-null  object \n",
      " 9   store_segment             410228 non-null  object \n",
      " 10  hub_state                 410228 non-null  object \n",
      "dtypes: float64(5), int64(2), object(4)\n",
      "memory usage: 37.6+ MB\n"
     ]
    }
   ],
   "source": [
    "# Remoção dos nulos\n",
    "\n",
    "df.dropna(subset=['driver_id', 'driver_modal'], inplace = True)\n",
    "df.info()"
   ]
  },
  {
   "cell_type": "code",
   "execution_count": 12,
   "metadata": {},
   "outputs": [
    {
     "name": "stdout",
     "output_type": "stream",
     "text": [
      "<class 'pandas.core.frame.DataFrame'>\n",
      "Index: 410228 entries, 0 to 418854\n",
      "Data columns (total 11 columns):\n",
      " #   Column                    Non-Null Count   Dtype  \n",
      "---  ------                    --------------   -----  \n",
      " 0   dt_ref                    410228 non-null  object \n",
      " 1   order_id                  410228 non-null  int64  \n",
      " 2   store_id                  410228 non-null  int64  \n",
      " 3   payment_amount            410228 non-null  float64\n",
      " 4   payment_fee               410228 non-null  float64\n",
      " 5   order_revenue             410228 non-null  float64\n",
      " 6   driver_id                 410228 non-null  float64\n",
      " 7   delivery_distance_meters  410228 non-null  float64\n",
      " 8   driver_modal              410228 non-null  object \n",
      " 9   store_segment             410228 non-null  object \n",
      " 10  hub_state                 410228 non-null  object \n",
      "dtypes: float64(5), int64(2), object(4)\n",
      "memory usage: 37.6+ MB\n"
     ]
    }
   ],
   "source": [
    "# Preenchendo os nulos de 'delivery_distance_meters' com a mediana\n",
    "\n",
    "dist_median = df['delivery_distance_meters'].median()\n",
    "df.fillna({'delivery_distance_meters': dist_median}, inplace = True)\n",
    "df.info()\n"
   ]
  },
  {
   "cell_type": "code",
   "execution_count": 13,
   "metadata": {},
   "outputs": [
    {
     "name": "stdout",
     "output_type": "stream",
     "text": [
      "<class 'pandas.core.frame.DataFrame'>\n",
      "Index: 340410 entries, 0 to 418854\n",
      "Data columns (total 11 columns):\n",
      " #   Column                    Non-Null Count   Dtype  \n",
      "---  ------                    --------------   -----  \n",
      " 0   dt_ref                    340410 non-null  object \n",
      " 1   order_id                  340410 non-null  int64  \n",
      " 2   store_id                  340410 non-null  int64  \n",
      " 3   payment_amount            340410 non-null  float64\n",
      " 4   payment_fee               340410 non-null  float64\n",
      " 5   order_revenue             340410 non-null  float64\n",
      " 6   driver_id                 340410 non-null  float64\n",
      " 7   delivery_distance_meters  340410 non-null  float64\n",
      " 8   driver_modal              340410 non-null  object \n",
      " 9   store_segment             340410 non-null  object \n",
      " 10  hub_state                 340410 non-null  object \n",
      "dtypes: float64(5), int64(2), object(4)\n",
      "memory usage: 31.2+ MB\n"
     ]
    }
   ],
   "source": [
    "# Remoção dos duplicados\n",
    "\n",
    "df.drop_duplicates(subset=['order_id'], inplace = True)\n",
    "df.info()"
   ]
  },
  {
   "cell_type": "markdown",
   "metadata": {},
   "source": [
    "## 2.2. Conversão de dtype\n",
    "\n",
    "Para prosseguir na análise o dtype melhor indicado para driver_id é INT então será realizada a conversão. "
   ]
  },
  {
   "cell_type": "code",
   "execution_count": 14,
   "metadata": {},
   "outputs": [
    {
     "name": "stdout",
     "output_type": "stream",
     "text": [
      "<class 'pandas.core.frame.DataFrame'>\n",
      "Index: 340410 entries, 0 to 418854\n",
      "Data columns (total 11 columns):\n",
      " #   Column                    Non-Null Count   Dtype  \n",
      "---  ------                    --------------   -----  \n",
      " 0   dt_ref                    340410 non-null  object \n",
      " 1   order_id                  340410 non-null  int64  \n",
      " 2   store_id                  340410 non-null  int64  \n",
      " 3   payment_amount            340410 non-null  float64\n",
      " 4   payment_fee               340410 non-null  float64\n",
      " 5   order_revenue             340410 non-null  float64\n",
      " 6   driver_id                 340410 non-null  int32  \n",
      " 7   delivery_distance_meters  340410 non-null  float64\n",
      " 8   driver_modal              340410 non-null  object \n",
      " 9   store_segment             340410 non-null  object \n",
      " 10  hub_state                 340410 non-null  object \n",
      "dtypes: float64(4), int32(1), int64(2), object(4)\n",
      "memory usage: 29.9+ MB\n"
     ]
    }
   ],
   "source": [
    "df['driver_id'] = df.driver_id.astype(int)\n",
    "df.info()"
   ]
  },
  {
   "cell_type": "markdown",
   "metadata": {},
   "source": [
    "## 2.3. Tratamento de outliers"
   ]
  },
  {
   "cell_type": "markdown",
   "metadata": {},
   "source": [
    "#### payment_amount"
   ]
  },
  {
   "cell_type": "code",
   "execution_count": 15,
   "metadata": {},
   "outputs": [
    {
     "data": {
      "image/png": "[encoded data removed]",
      "text/plain": [
       "<Figure size 800x600 with 1 Axes>"
      ]
     },
     "metadata": {},
     "output_type": "display_data"
    }
   ],
   "source": [
    "fig = plt.figure(figsize=(8, 6))\n",
    "ax = fig.add_axes([0, 0, 1, 1])\n",
    "\n",
    "sns.boxplot(df, x = 'payment_amount')\n",
    "ax.set_title('Boxplot de payment_amount', loc = 'left', fontsize = 14, pad = 10)\n",
    "ax.set_xlabel('Valor (R$)', fontsize = 10)\n",
    "plt.show()"
   ]
  },
  {
   "cell_type": "code",
   "execution_count": 16,
   "metadata": {},
   "outputs": [],
   "source": [
    "# Calculando os quartis, e o intervalo interquartil\n",
    "Q1 = df['payment_amount'].quantile(0.25)\n",
    "Q3 = df['payment_amount'].quantile(0.75)\n",
    "IQR = Q3 - Q1\n",
    "\n",
    "# Calculando os limites inferior e superior\n",
    "limite_inf = Q1 - 1.5 * IQR\n",
    "limite_sup = Q3 + 1.5 * IQR\n",
    "\n",
    "# Outliers\n",
    "df = df[(df['payment_amount'] >= limite_inf) & (df['payment_amount'] <= limite_sup)]\n",
    "df.reset_index(inplace = True, drop = True)"
   ]
  },
  {
   "cell_type": "code",
   "execution_count": 17,
   "metadata": {},
   "outputs": [
    {
     "data": {
      "image/png": "[encoded data removed]",
      "text/plain": [
       "<Figure size 800x600 with 1 Axes>"
      ]
     },
     "metadata": {},
     "output_type": "display_data"
    }
   ],
   "source": [
    "fig = plt.figure(figsize=(8, 6))\n",
    "ax = fig.add_axes([0, 0, 1, 1])\n",
    "\n",
    "sns.boxplot(df, x = 'payment_amount')\n",
    "ax.set_title('Boxplot de payment_amount (pós remoção de outliers)', loc = 'left', fontsize = 14, pad = 10)\n",
    "ax.set_xlabel('Valor (R$)', fontsize = 10)\n",
    "plt.show()"
   ]
  },
  {
   "cell_type": "markdown",
   "metadata": {},
   "source": [
    "#### payment_fee"
   ]
  },
  {
   "cell_type": "code",
   "execution_count": 18,
   "metadata": {},
   "outputs": [
    {
     "data": {
      "image/png": "[encoded data removed]",
      "text/plain": [
       "<Figure size 800x600 with 1 Axes>"
      ]
     },
     "metadata": {},
     "output_type": "display_data"
    }
   ],
   "source": [
    "fig = plt.figure(figsize=(8, 6))\n",
    "ax = fig.add_axes([0, 0, 1, 1])\n",
    "\n",
    "sns.boxplot(df, x = 'payment_fee')\n",
    "ax.set_title('Boxplot de payment_fee', loc = 'left', fontsize = 14, pad = 10)\n",
    "ax.set_xlabel('Valor (R$)', fontsize = 10)\n",
    "plt.show()"
   ]
  },
  {
   "cell_type": "code",
   "execution_count": 19,
   "metadata": {},
   "outputs": [],
   "source": [
    "# Calculando os quartis, e o intervalo interquartil\n",
    "Q1 = df['payment_fee'].quantile(0.25)\n",
    "Q3 = df['payment_fee'].quantile(0.75)\n",
    "IQR = Q3 - Q1\n",
    "\n",
    "# Calculando os limites inferior e superior\n",
    "limite_inf = Q1 - 1.5 * IQR\n",
    "limite_sup = Q3 + 1.5 * IQR\n",
    "\n",
    "# Outliers\n",
    "df = df[(df['payment_fee'] >= limite_inf) & (df['payment_fee'] <= limite_sup)]\n",
    "df.reset_index(inplace = True, drop = True)"
   ]
  },
  {
   "cell_type": "code",
   "execution_count": 20,
   "metadata": {},
   "outputs": [
    {
     "data": {
      "image/png": "[encoded data removed]",
      "text/plain": [
       "<Figure size 800x600 with 1 Axes>"
      ]
     },
     "metadata": {},
     "output_type": "display_data"
    }
   ],
   "source": [
    "fig = plt.figure(figsize=(8, 6))\n",
    "ax = fig.add_axes([0, 0, 1, 1])\n",
    "\n",
    "sns.boxplot(df, x = 'payment_fee')\n",
    "ax.set_title('Boxplot de payment_fee (pós remoção de outliers)', loc = 'left', fontsize = 14, pad = 10)\n",
    "ax.set_xlabel('Valor (R$)', fontsize = 10)\n",
    "plt.show()"
   ]
  },
  {
   "cell_type": "markdown",
   "metadata": {},
   "source": [
    "#### delivery_distance_meters"
   ]
  },
  {
   "cell_type": "code",
   "execution_count": 21,
   "metadata": {},
   "outputs": [
    {
     "data": {
      "image/png": "[encoded data removed]",
      "text/plain": [
       "<Figure size 800x600 with 1 Axes>"
      ]
     },
     "metadata": {},
     "output_type": "display_data"
    }
   ],
   "source": [
    "fig = plt.figure(figsize=(8, 6))\n",
    "ax = fig.add_axes([0, 0, 1, 1])\n",
    "\n",
    "sns.boxplot(df, x = 'delivery_distance_meters')\n",
    "ax.set_title('Boxplot de delivery_distance_meters', loc = 'left', fontsize = 14, pad = 10)\n",
    "ax.set_xlabel('Valor (R$)', fontsize = 10)\n",
    "plt.show()"
   ]
  },
  {
   "cell_type": "markdown",
   "metadata": {},
   "source": [
    "Antes de prosseguir para remoção dos outliers, é preciso ter em mente um fato importante: temos entregadores que usam moto e outros que usam bicicletas. Então é necessário remover os valores extremos dos dois de forma separada. "
   ]
  },
  {
   "cell_type": "code",
   "execution_count": 22,
   "metadata": {},
   "outputs": [
    {
     "name": "stdout",
     "output_type": "stream",
     "text": [
      "<class 'pandas.core.frame.DataFrame'>\n",
      "RangeIndex: 319763 entries, 0 to 319762\n",
      "Data columns (total 11 columns):\n",
      " #   Column                    Non-Null Count   Dtype  \n",
      "---  ------                    --------------   -----  \n",
      " 0   dt_ref                    319763 non-null  object \n",
      " 1   order_id                  319763 non-null  int64  \n",
      " 2   store_id                  319763 non-null  int64  \n",
      " 3   payment_amount            319763 non-null  float64\n",
      " 4   payment_fee               319763 non-null  float64\n",
      " 5   order_revenue             319763 non-null  float64\n",
      " 6   driver_id                 319763 non-null  int32  \n",
      " 7   delivery_distance_meters  319763 non-null  float64\n",
      " 8   driver_modal              319763 non-null  object \n",
      " 9   store_segment             319763 non-null  object \n",
      " 10  hub_state                 319763 non-null  object \n",
      "dtypes: float64(4), int32(1), int64(2), object(4)\n",
      "memory usage: 25.6+ MB\n"
     ]
    }
   ],
   "source": [
    "# Filtro para os entregadores de bike\n",
    "filtro = df[df['driver_modal'] == 'BIKER'].index\n",
    "\n",
    "Q1 = df.loc[filtro, 'delivery_distance_meters'].quantile(0.25)\n",
    "Q3 = df.loc[filtro, 'delivery_distance_meters'].quantile(0.75)\n",
    "IQR = Q3 - Q1\n",
    "\n",
    "limite_inf = Q1 - 1.5 * IQR\n",
    "limite_sup = Q3 + 1.5 * IQR\n",
    "\n",
    "df_outliers = df.loc[filtro].copy()\n",
    "df_outliers = df_outliers[(df_outliers['delivery_distance_meters'] >= limite_inf) & (df_outliers['delivery_distance_meters'] <= limite_sup)]\n",
    "\n",
    "# Removendo os outliers \n",
    "df = df.drop(filtro.difference(df_outliers.index))\n",
    "df.reset_index(inplace = True, drop = True)\n",
    "df.info()"
   ]
  },
  {
   "cell_type": "code",
   "execution_count": 23,
   "metadata": {},
   "outputs": [
    {
     "name": "stdout",
     "output_type": "stream",
     "text": [
      "<class 'pandas.core.frame.DataFrame'>\n",
      "RangeIndex: 308930 entries, 0 to 308929\n",
      "Data columns (total 11 columns):\n",
      " #   Column                    Non-Null Count   Dtype  \n",
      "---  ------                    --------------   -----  \n",
      " 0   dt_ref                    308930 non-null  object \n",
      " 1   order_id                  308930 non-null  int64  \n",
      " 2   store_id                  308930 non-null  int64  \n",
      " 3   payment_amount            308930 non-null  float64\n",
      " 4   payment_fee               308930 non-null  float64\n",
      " 5   order_revenue             308930 non-null  float64\n",
      " 6   driver_id                 308930 non-null  int32  \n",
      " 7   delivery_distance_meters  308930 non-null  float64\n",
      " 8   driver_modal              308930 non-null  object \n",
      " 9   store_segment             308930 non-null  object \n",
      " 10  hub_state                 308930 non-null  object \n",
      "dtypes: float64(4), int32(1), int64(2), object(4)\n",
      "memory usage: 24.7+ MB\n"
     ]
    }
   ],
   "source": [
    "# Filtro para os entregadores de bike\n",
    "filtro = df[df['driver_modal'] == 'MOTOBOY'].index\n",
    "\n",
    "Q1 = df.loc[filtro, 'delivery_distance_meters'].quantile(0.25)\n",
    "Q3 = df.loc[filtro, 'delivery_distance_meters'].quantile(0.75)\n",
    "IQR = Q3 - Q1\n",
    "\n",
    "limite_inf = Q1 - 1.5 * IQR\n",
    "limite_sup = Q3 + 1.5 * IQR\n",
    "\n",
    "df_outliers = df.loc[filtro].copy()\n",
    "df_outliers = df_outliers[(df_outliers['delivery_distance_meters'] >= limite_inf) & (df_outliers['delivery_distance_meters'] <= limite_sup)]\n",
    "\n",
    "# Removendo os outliers \n",
    "df = df.drop(filtro.difference(df_outliers.index))\n",
    "df.reset_index(inplace = True, drop = True)\n",
    "df.info()"
   ]
  },
  {
   "cell_type": "code",
   "execution_count": 24,
   "metadata": {},
   "outputs": [
    {
     "data": {
      "image/png": "[encoded data removed]",
      "text/plain": [
       "<Figure size 800x600 with 1 Axes>"
      ]
     },
     "metadata": {},
     "output_type": "display_data"
    }
   ],
   "source": [
    "fig = plt.figure(figsize=(8, 6))\n",
    "ax = fig.add_axes([0, 0, 1, 1])\n",
    "\n",
    "sns.boxplot(df, x = 'delivery_distance_meters')\n",
    "ax.set_title('Boxplot de delivery_distance_meters (pós remoção dos outliers)', loc = 'left', fontsize = 14, pad = 10)\n",
    "ax.set_xlabel('Valor (R$)', fontsize = 10)\n",
    "plt.show()"
   ]
  },
  {
   "cell_type": "code",
   "execution_count": 80,
   "metadata": {},
   "outputs": [],
   "source": [
    "# Os dados limpos serão salvos também\n",
    "df.to_csv(\"../data/processed/clean_data.csv\", index = False)"
   ]
  },
  {
   "cell_type": "markdown",
   "metadata": {},
   "source": [
    "# 3. Analisando os dados e respondendo as demandas"
   ]
  },
  {
   "cell_type": "markdown",
   "metadata": {},
   "source": [
    "## 3.1. Os melhores entregadores"
   ]
  },
  {
   "cell_type": "code",
   "execution_count": 25,
   "metadata": {},
   "outputs": [],
   "source": [
    "ranking_geral = df.groupby(['driver_id', 'driver_modal']).agg(total_meters = ('delivery_distance_meters', 'sum')).reset_index().sort_values(by = 'total_meters', ascending = False)\n",
    "ranking_geral.reset_index(drop = True, inplace = True)"
   ]
  },
  {
   "cell_type": "code",
   "execution_count": 26,
   "metadata": {},
   "outputs": [
    {
     "data": {
      "text/html": [
       "<div>\n",
       "<style scoped>\n",
       "    .dataframe tbody tr th:only-of-type {\n",
       "        vertical-align: middle;\n",
       "    }\n",
       "\n",
       "    .dataframe tbody tr th {\n",
       "        vertical-align: top;\n",
       "    }\n",
       "\n",
       "    .dataframe thead th {\n",
       "        text-align: right;\n",
       "    }\n",
       "</style>\n",
       "<table border=\"1\" class=\"dataframe\">\n",
       "  <thead>\n",
       "    <tr style=\"text-align: right;\">\n",
       "      <th></th>\n",
       "      <th>dt_ref</th>\n",
       "      <th>placing</th>\n",
       "      <th>driver_id</th>\n",
       "      <th>driver_modal</th>\n",
       "      <th>total_meters</th>\n",
       "    </tr>\n",
       "  </thead>\n",
       "  <tbody>\n",
       "    <tr>\n",
       "      <th>0</th>\n",
       "      <td>2024-07-08</td>\n",
       "      <td>1</td>\n",
       "      <td>25651</td>\n",
       "      <td>MOTOBOY</td>\n",
       "      <td>13854626.0</td>\n",
       "    </tr>\n",
       "    <tr>\n",
       "      <th>1</th>\n",
       "      <td>2024-07-08</td>\n",
       "      <td>2</td>\n",
       "      <td>26223</td>\n",
       "      <td>MOTOBOY</td>\n",
       "      <td>8340694.0</td>\n",
       "    </tr>\n",
       "    <tr>\n",
       "      <th>2</th>\n",
       "      <td>2024-07-08</td>\n",
       "      <td>3</td>\n",
       "      <td>7615</td>\n",
       "      <td>MOTOBOY</td>\n",
       "      <td>2599726.0</td>\n",
       "    </tr>\n",
       "    <tr>\n",
       "      <th>3</th>\n",
       "      <td>2024-07-08</td>\n",
       "      <td>4</td>\n",
       "      <td>9806</td>\n",
       "      <td>MOTOBOY</td>\n",
       "      <td>2295311.0</td>\n",
       "    </tr>\n",
       "    <tr>\n",
       "      <th>4</th>\n",
       "      <td>2024-07-08</td>\n",
       "      <td>5</td>\n",
       "      <td>4737</td>\n",
       "      <td>MOTOBOY</td>\n",
       "      <td>2286124.0</td>\n",
       "    </tr>\n",
       "    <tr>\n",
       "      <th>5</th>\n",
       "      <td>2024-07-08</td>\n",
       "      <td>6</td>\n",
       "      <td>7549</td>\n",
       "      <td>MOTOBOY</td>\n",
       "      <td>2283929.0</td>\n",
       "    </tr>\n",
       "    <tr>\n",
       "      <th>6</th>\n",
       "      <td>2024-07-08</td>\n",
       "      <td>7</td>\n",
       "      <td>11522</td>\n",
       "      <td>MOTOBOY</td>\n",
       "      <td>2212062.0</td>\n",
       "    </tr>\n",
       "    <tr>\n",
       "      <th>7</th>\n",
       "      <td>2024-07-08</td>\n",
       "      <td>8</td>\n",
       "      <td>7799</td>\n",
       "      <td>MOTOBOY</td>\n",
       "      <td>2184855.0</td>\n",
       "    </tr>\n",
       "    <tr>\n",
       "      <th>8</th>\n",
       "      <td>2024-07-08</td>\n",
       "      <td>9</td>\n",
       "      <td>15561</td>\n",
       "      <td>MOTOBOY</td>\n",
       "      <td>2097759.0</td>\n",
       "    </tr>\n",
       "    <tr>\n",
       "      <th>9</th>\n",
       "      <td>2024-07-08</td>\n",
       "      <td>10</td>\n",
       "      <td>902</td>\n",
       "      <td>MOTOBOY</td>\n",
       "      <td>2073159.0</td>\n",
       "    </tr>\n",
       "    <tr>\n",
       "      <th>10</th>\n",
       "      <td>2024-07-08</td>\n",
       "      <td>11</td>\n",
       "      <td>5527</td>\n",
       "      <td>MOTOBOY</td>\n",
       "      <td>2044375.0</td>\n",
       "    </tr>\n",
       "    <tr>\n",
       "      <th>11</th>\n",
       "      <td>2024-07-08</td>\n",
       "      <td>12</td>\n",
       "      <td>17749</td>\n",
       "      <td>MOTOBOY</td>\n",
       "      <td>2036488.0</td>\n",
       "    </tr>\n",
       "    <tr>\n",
       "      <th>12</th>\n",
       "      <td>2024-07-08</td>\n",
       "      <td>13</td>\n",
       "      <td>32109</td>\n",
       "      <td>MOTOBOY</td>\n",
       "      <td>2006135.0</td>\n",
       "    </tr>\n",
       "    <tr>\n",
       "      <th>13</th>\n",
       "      <td>2024-07-08</td>\n",
       "      <td>14</td>\n",
       "      <td>20495</td>\n",
       "      <td>MOTOBOY</td>\n",
       "      <td>1944693.0</td>\n",
       "    </tr>\n",
       "    <tr>\n",
       "      <th>14</th>\n",
       "      <td>2024-07-08</td>\n",
       "      <td>15</td>\n",
       "      <td>11063</td>\n",
       "      <td>MOTOBOY</td>\n",
       "      <td>1940638.0</td>\n",
       "    </tr>\n",
       "    <tr>\n",
       "      <th>15</th>\n",
       "      <td>2024-07-08</td>\n",
       "      <td>16</td>\n",
       "      <td>34207</td>\n",
       "      <td>MOTOBOY</td>\n",
       "      <td>1923331.0</td>\n",
       "    </tr>\n",
       "    <tr>\n",
       "      <th>16</th>\n",
       "      <td>2024-07-08</td>\n",
       "      <td>17</td>\n",
       "      <td>627</td>\n",
       "      <td>MOTOBOY</td>\n",
       "      <td>1866923.0</td>\n",
       "    </tr>\n",
       "    <tr>\n",
       "      <th>17</th>\n",
       "      <td>2024-07-08</td>\n",
       "      <td>18</td>\n",
       "      <td>21923</td>\n",
       "      <td>MOTOBOY</td>\n",
       "      <td>1854807.0</td>\n",
       "    </tr>\n",
       "    <tr>\n",
       "      <th>18</th>\n",
       "      <td>2024-07-08</td>\n",
       "      <td>19</td>\n",
       "      <td>26536</td>\n",
       "      <td>MOTOBOY</td>\n",
       "      <td>1848829.0</td>\n",
       "    </tr>\n",
       "    <tr>\n",
       "      <th>19</th>\n",
       "      <td>2024-07-08</td>\n",
       "      <td>20</td>\n",
       "      <td>598</td>\n",
       "      <td>MOTOBOY</td>\n",
       "      <td>1843619.0</td>\n",
       "    </tr>\n",
       "  </tbody>\n",
       "</table>\n",
       "</div>"
      ],
      "text/plain": [
       "        dt_ref  placing  driver_id driver_modal  total_meters\n",
       "0   2024-07-08        1      25651      MOTOBOY    13854626.0\n",
       "1   2024-07-08        2      26223      MOTOBOY     8340694.0\n",
       "2   2024-07-08        3       7615      MOTOBOY     2599726.0\n",
       "3   2024-07-08        4       9806      MOTOBOY     2295311.0\n",
       "4   2024-07-08        5       4737      MOTOBOY     2286124.0\n",
       "5   2024-07-08        6       7549      MOTOBOY     2283929.0\n",
       "6   2024-07-08        7      11522      MOTOBOY     2212062.0\n",
       "7   2024-07-08        8       7799      MOTOBOY     2184855.0\n",
       "8   2024-07-08        9      15561      MOTOBOY     2097759.0\n",
       "9   2024-07-08       10        902      MOTOBOY     2073159.0\n",
       "10  2024-07-08       11       5527      MOTOBOY     2044375.0\n",
       "11  2024-07-08       12      17749      MOTOBOY     2036488.0\n",
       "12  2024-07-08       13      32109      MOTOBOY     2006135.0\n",
       "13  2024-07-08       14      20495      MOTOBOY     1944693.0\n",
       "14  2024-07-08       15      11063      MOTOBOY     1940638.0\n",
       "15  2024-07-08       16      34207      MOTOBOY     1923331.0\n",
       "16  2024-07-08       17        627      MOTOBOY     1866923.0\n",
       "17  2024-07-08       18      21923      MOTOBOY     1854807.0\n",
       "18  2024-07-08       19      26536      MOTOBOY     1848829.0\n",
       "19  2024-07-08       20        598      MOTOBOY     1843619.0"
      ]
     },
     "execution_count": 26,
     "metadata": {},
     "output_type": "execute_result"
    }
   ],
   "source": [
    "ranking_geral['placing'] = ranking_geral.index + 1\n",
    "ranking_geral['dt_ref'] = '2024-07-08'\n",
    "ranking_geral = ranking_geral[['dt_ref', 'placing', 'driver_id', 'driver_modal', 'total_meters']]\n",
    "ranking_geral.head(20)"
   ]
  },
  {
   "cell_type": "markdown",
   "metadata": {},
   "source": [
    "#### Melhores motoboys"
   ]
  },
  {
   "cell_type": "code",
   "execution_count": 27,
   "metadata": {},
   "outputs": [
    {
     "data": {
      "text/html": [
       "<div>\n",
       "<style scoped>\n",
       "    .dataframe tbody tr th:only-of-type {\n",
       "        vertical-align: middle;\n",
       "    }\n",
       "\n",
       "    .dataframe tbody tr th {\n",
       "        vertical-align: top;\n",
       "    }\n",
       "\n",
       "    .dataframe thead th {\n",
       "        text-align: right;\n",
       "    }\n",
       "</style>\n",
       "<table border=\"1\" class=\"dataframe\">\n",
       "  <thead>\n",
       "    <tr style=\"text-align: right;\">\n",
       "      <th></th>\n",
       "      <th>dt_ref</th>\n",
       "      <th>placing</th>\n",
       "      <th>driver_id</th>\n",
       "      <th>driver_modal</th>\n",
       "      <th>total_meters</th>\n",
       "    </tr>\n",
       "  </thead>\n",
       "  <tbody>\n",
       "    <tr>\n",
       "      <th>0</th>\n",
       "      <td>2024-07-08</td>\n",
       "      <td>1</td>\n",
       "      <td>25651</td>\n",
       "      <td>MOTOBOY</td>\n",
       "      <td>13854626.0</td>\n",
       "    </tr>\n",
       "    <tr>\n",
       "      <th>1</th>\n",
       "      <td>2024-07-08</td>\n",
       "      <td>2</td>\n",
       "      <td>26223</td>\n",
       "      <td>MOTOBOY</td>\n",
       "      <td>8340694.0</td>\n",
       "    </tr>\n",
       "    <tr>\n",
       "      <th>2</th>\n",
       "      <td>2024-07-08</td>\n",
       "      <td>3</td>\n",
       "      <td>7615</td>\n",
       "      <td>MOTOBOY</td>\n",
       "      <td>2599726.0</td>\n",
       "    </tr>\n",
       "    <tr>\n",
       "      <th>3</th>\n",
       "      <td>2024-07-08</td>\n",
       "      <td>4</td>\n",
       "      <td>9806</td>\n",
       "      <td>MOTOBOY</td>\n",
       "      <td>2295311.0</td>\n",
       "    </tr>\n",
       "    <tr>\n",
       "      <th>4</th>\n",
       "      <td>2024-07-08</td>\n",
       "      <td>5</td>\n",
       "      <td>4737</td>\n",
       "      <td>MOTOBOY</td>\n",
       "      <td>2286124.0</td>\n",
       "    </tr>\n",
       "    <tr>\n",
       "      <th>5</th>\n",
       "      <td>2024-07-08</td>\n",
       "      <td>6</td>\n",
       "      <td>7549</td>\n",
       "      <td>MOTOBOY</td>\n",
       "      <td>2283929.0</td>\n",
       "    </tr>\n",
       "    <tr>\n",
       "      <th>6</th>\n",
       "      <td>2024-07-08</td>\n",
       "      <td>7</td>\n",
       "      <td>11522</td>\n",
       "      <td>MOTOBOY</td>\n",
       "      <td>2212062.0</td>\n",
       "    </tr>\n",
       "    <tr>\n",
       "      <th>7</th>\n",
       "      <td>2024-07-08</td>\n",
       "      <td>8</td>\n",
       "      <td>7799</td>\n",
       "      <td>MOTOBOY</td>\n",
       "      <td>2184855.0</td>\n",
       "    </tr>\n",
       "    <tr>\n",
       "      <th>8</th>\n",
       "      <td>2024-07-08</td>\n",
       "      <td>9</td>\n",
       "      <td>15561</td>\n",
       "      <td>MOTOBOY</td>\n",
       "      <td>2097759.0</td>\n",
       "    </tr>\n",
       "    <tr>\n",
       "      <th>9</th>\n",
       "      <td>2024-07-08</td>\n",
       "      <td>10</td>\n",
       "      <td>902</td>\n",
       "      <td>MOTOBOY</td>\n",
       "      <td>2073159.0</td>\n",
       "    </tr>\n",
       "    <tr>\n",
       "      <th>10</th>\n",
       "      <td>2024-07-08</td>\n",
       "      <td>11</td>\n",
       "      <td>5527</td>\n",
       "      <td>MOTOBOY</td>\n",
       "      <td>2044375.0</td>\n",
       "    </tr>\n",
       "    <tr>\n",
       "      <th>11</th>\n",
       "      <td>2024-07-08</td>\n",
       "      <td>12</td>\n",
       "      <td>17749</td>\n",
       "      <td>MOTOBOY</td>\n",
       "      <td>2036488.0</td>\n",
       "    </tr>\n",
       "    <tr>\n",
       "      <th>12</th>\n",
       "      <td>2024-07-08</td>\n",
       "      <td>13</td>\n",
       "      <td>32109</td>\n",
       "      <td>MOTOBOY</td>\n",
       "      <td>2006135.0</td>\n",
       "    </tr>\n",
       "    <tr>\n",
       "      <th>13</th>\n",
       "      <td>2024-07-08</td>\n",
       "      <td>14</td>\n",
       "      <td>20495</td>\n",
       "      <td>MOTOBOY</td>\n",
       "      <td>1944693.0</td>\n",
       "    </tr>\n",
       "    <tr>\n",
       "      <th>14</th>\n",
       "      <td>2024-07-08</td>\n",
       "      <td>15</td>\n",
       "      <td>11063</td>\n",
       "      <td>MOTOBOY</td>\n",
       "      <td>1940638.0</td>\n",
       "    </tr>\n",
       "    <tr>\n",
       "      <th>15</th>\n",
       "      <td>2024-07-08</td>\n",
       "      <td>16</td>\n",
       "      <td>34207</td>\n",
       "      <td>MOTOBOY</td>\n",
       "      <td>1923331.0</td>\n",
       "    </tr>\n",
       "    <tr>\n",
       "      <th>16</th>\n",
       "      <td>2024-07-08</td>\n",
       "      <td>17</td>\n",
       "      <td>627</td>\n",
       "      <td>MOTOBOY</td>\n",
       "      <td>1866923.0</td>\n",
       "    </tr>\n",
       "    <tr>\n",
       "      <th>17</th>\n",
       "      <td>2024-07-08</td>\n",
       "      <td>18</td>\n",
       "      <td>21923</td>\n",
       "      <td>MOTOBOY</td>\n",
       "      <td>1854807.0</td>\n",
       "    </tr>\n",
       "    <tr>\n",
       "      <th>18</th>\n",
       "      <td>2024-07-08</td>\n",
       "      <td>19</td>\n",
       "      <td>26536</td>\n",
       "      <td>MOTOBOY</td>\n",
       "      <td>1848829.0</td>\n",
       "    </tr>\n",
       "    <tr>\n",
       "      <th>19</th>\n",
       "      <td>2024-07-08</td>\n",
       "      <td>20</td>\n",
       "      <td>598</td>\n",
       "      <td>MOTOBOY</td>\n",
       "      <td>1843619.0</td>\n",
       "    </tr>\n",
       "  </tbody>\n",
       "</table>\n",
       "</div>"
      ],
      "text/plain": [
       "        dt_ref  placing  driver_id driver_modal  total_meters\n",
       "0   2024-07-08        1      25651      MOTOBOY    13854626.0\n",
       "1   2024-07-08        2      26223      MOTOBOY     8340694.0\n",
       "2   2024-07-08        3       7615      MOTOBOY     2599726.0\n",
       "3   2024-07-08        4       9806      MOTOBOY     2295311.0\n",
       "4   2024-07-08        5       4737      MOTOBOY     2286124.0\n",
       "5   2024-07-08        6       7549      MOTOBOY     2283929.0\n",
       "6   2024-07-08        7      11522      MOTOBOY     2212062.0\n",
       "7   2024-07-08        8       7799      MOTOBOY     2184855.0\n",
       "8   2024-07-08        9      15561      MOTOBOY     2097759.0\n",
       "9   2024-07-08       10        902      MOTOBOY     2073159.0\n",
       "10  2024-07-08       11       5527      MOTOBOY     2044375.0\n",
       "11  2024-07-08       12      17749      MOTOBOY     2036488.0\n",
       "12  2024-07-08       13      32109      MOTOBOY     2006135.0\n",
       "13  2024-07-08       14      20495      MOTOBOY     1944693.0\n",
       "14  2024-07-08       15      11063      MOTOBOY     1940638.0\n",
       "15  2024-07-08       16      34207      MOTOBOY     1923331.0\n",
       "16  2024-07-08       17        627      MOTOBOY     1866923.0\n",
       "17  2024-07-08       18      21923      MOTOBOY     1854807.0\n",
       "18  2024-07-08       19      26536      MOTOBOY     1848829.0\n",
       "19  2024-07-08       20        598      MOTOBOY     1843619.0"
      ]
     },
     "execution_count": 27,
     "metadata": {},
     "output_type": "execute_result"
    }
   ],
   "source": [
    "ranking_motoboys = ranking_geral[ranking_geral['driver_modal'] == 'MOTOBOY']\n",
    "ranking_motoboys.reset_index(drop = True, inplace = True)\n",
    "ranking_motoboys['placing'] = ranking_motoboys.index + 1\n",
    "ranking_motoboys.head(20)"
   ]
  },
  {
   "cell_type": "markdown",
   "metadata": {},
   "source": [
    "#### Melhores bikers"
   ]
  },
  {
   "cell_type": "code",
   "execution_count": 28,
   "metadata": {},
   "outputs": [
    {
     "data": {
      "text/html": [
       "<div>\n",
       "<style scoped>\n",
       "    .dataframe tbody tr th:only-of-type {\n",
       "        vertical-align: middle;\n",
       "    }\n",
       "\n",
       "    .dataframe tbody tr th {\n",
       "        vertical-align: top;\n",
       "    }\n",
       "\n",
       "    .dataframe thead th {\n",
       "        text-align: right;\n",
       "    }\n",
       "</style>\n",
       "<table border=\"1\" class=\"dataframe\">\n",
       "  <thead>\n",
       "    <tr style=\"text-align: right;\">\n",
       "      <th></th>\n",
       "      <th>dt_ref</th>\n",
       "      <th>placing</th>\n",
       "      <th>driver_id</th>\n",
       "      <th>driver_modal</th>\n",
       "      <th>total_meters</th>\n",
       "    </tr>\n",
       "  </thead>\n",
       "  <tbody>\n",
       "    <tr>\n",
       "      <th>0</th>\n",
       "      <td>2024-07-08</td>\n",
       "      <td>1</td>\n",
       "      <td>3780</td>\n",
       "      <td>BIKER</td>\n",
       "      <td>829689.0</td>\n",
       "    </tr>\n",
       "    <tr>\n",
       "      <th>1</th>\n",
       "      <td>2024-07-08</td>\n",
       "      <td>2</td>\n",
       "      <td>794</td>\n",
       "      <td>BIKER</td>\n",
       "      <td>826101.0</td>\n",
       "    </tr>\n",
       "    <tr>\n",
       "      <th>2</th>\n",
       "      <td>2024-07-08</td>\n",
       "      <td>3</td>\n",
       "      <td>12724</td>\n",
       "      <td>BIKER</td>\n",
       "      <td>696300.0</td>\n",
       "    </tr>\n",
       "    <tr>\n",
       "      <th>3</th>\n",
       "      <td>2024-07-08</td>\n",
       "      <td>4</td>\n",
       "      <td>7773</td>\n",
       "      <td>BIKER</td>\n",
       "      <td>604160.0</td>\n",
       "    </tr>\n",
       "    <tr>\n",
       "      <th>4</th>\n",
       "      <td>2024-07-08</td>\n",
       "      <td>5</td>\n",
       "      <td>18487</td>\n",
       "      <td>BIKER</td>\n",
       "      <td>597504.0</td>\n",
       "    </tr>\n",
       "    <tr>\n",
       "      <th>5</th>\n",
       "      <td>2024-07-08</td>\n",
       "      <td>6</td>\n",
       "      <td>12079</td>\n",
       "      <td>BIKER</td>\n",
       "      <td>560326.0</td>\n",
       "    </tr>\n",
       "    <tr>\n",
       "      <th>6</th>\n",
       "      <td>2024-07-08</td>\n",
       "      <td>7</td>\n",
       "      <td>14059</td>\n",
       "      <td>BIKER</td>\n",
       "      <td>559636.0</td>\n",
       "    </tr>\n",
       "    <tr>\n",
       "      <th>7</th>\n",
       "      <td>2024-07-08</td>\n",
       "      <td>8</td>\n",
       "      <td>4536</td>\n",
       "      <td>BIKER</td>\n",
       "      <td>553887.0</td>\n",
       "    </tr>\n",
       "    <tr>\n",
       "      <th>8</th>\n",
       "      <td>2024-07-08</td>\n",
       "      <td>9</td>\n",
       "      <td>9996</td>\n",
       "      <td>BIKER</td>\n",
       "      <td>553366.0</td>\n",
       "    </tr>\n",
       "    <tr>\n",
       "      <th>9</th>\n",
       "      <td>2024-07-08</td>\n",
       "      <td>10</td>\n",
       "      <td>1203</td>\n",
       "      <td>BIKER</td>\n",
       "      <td>542755.0</td>\n",
       "    </tr>\n",
       "    <tr>\n",
       "      <th>10</th>\n",
       "      <td>2024-07-08</td>\n",
       "      <td>11</td>\n",
       "      <td>18748</td>\n",
       "      <td>BIKER</td>\n",
       "      <td>539334.0</td>\n",
       "    </tr>\n",
       "    <tr>\n",
       "      <th>11</th>\n",
       "      <td>2024-07-08</td>\n",
       "      <td>12</td>\n",
       "      <td>5364</td>\n",
       "      <td>BIKER</td>\n",
       "      <td>497430.0</td>\n",
       "    </tr>\n",
       "    <tr>\n",
       "      <th>12</th>\n",
       "      <td>2024-07-08</td>\n",
       "      <td>13</td>\n",
       "      <td>8592</td>\n",
       "      <td>BIKER</td>\n",
       "      <td>489791.0</td>\n",
       "    </tr>\n",
       "    <tr>\n",
       "      <th>13</th>\n",
       "      <td>2024-07-08</td>\n",
       "      <td>14</td>\n",
       "      <td>15279</td>\n",
       "      <td>BIKER</td>\n",
       "      <td>487758.0</td>\n",
       "    </tr>\n",
       "    <tr>\n",
       "      <th>14</th>\n",
       "      <td>2024-07-08</td>\n",
       "      <td>15</td>\n",
       "      <td>34079</td>\n",
       "      <td>BIKER</td>\n",
       "      <td>486136.0</td>\n",
       "    </tr>\n",
       "    <tr>\n",
       "      <th>15</th>\n",
       "      <td>2024-07-08</td>\n",
       "      <td>16</td>\n",
       "      <td>1943</td>\n",
       "      <td>BIKER</td>\n",
       "      <td>483183.0</td>\n",
       "    </tr>\n",
       "    <tr>\n",
       "      <th>16</th>\n",
       "      <td>2024-07-08</td>\n",
       "      <td>17</td>\n",
       "      <td>8771</td>\n",
       "      <td>BIKER</td>\n",
       "      <td>480084.0</td>\n",
       "    </tr>\n",
       "    <tr>\n",
       "      <th>17</th>\n",
       "      <td>2024-07-08</td>\n",
       "      <td>18</td>\n",
       "      <td>1301</td>\n",
       "      <td>BIKER</td>\n",
       "      <td>474372.0</td>\n",
       "    </tr>\n",
       "    <tr>\n",
       "      <th>18</th>\n",
       "      <td>2024-07-08</td>\n",
       "      <td>19</td>\n",
       "      <td>6675</td>\n",
       "      <td>BIKER</td>\n",
       "      <td>473240.0</td>\n",
       "    </tr>\n",
       "    <tr>\n",
       "      <th>19</th>\n",
       "      <td>2024-07-08</td>\n",
       "      <td>20</td>\n",
       "      <td>196</td>\n",
       "      <td>BIKER</td>\n",
       "      <td>472256.0</td>\n",
       "    </tr>\n",
       "  </tbody>\n",
       "</table>\n",
       "</div>"
      ],
      "text/plain": [
       "        dt_ref  placing  driver_id driver_modal  total_meters\n",
       "0   2024-07-08        1       3780        BIKER      829689.0\n",
       "1   2024-07-08        2        794        BIKER      826101.0\n",
       "2   2024-07-08        3      12724        BIKER      696300.0\n",
       "3   2024-07-08        4       7773        BIKER      604160.0\n",
       "4   2024-07-08        5      18487        BIKER      597504.0\n",
       "5   2024-07-08        6      12079        BIKER      560326.0\n",
       "6   2024-07-08        7      14059        BIKER      559636.0\n",
       "7   2024-07-08        8       4536        BIKER      553887.0\n",
       "8   2024-07-08        9       9996        BIKER      553366.0\n",
       "9   2024-07-08       10       1203        BIKER      542755.0\n",
       "10  2024-07-08       11      18748        BIKER      539334.0\n",
       "11  2024-07-08       12       5364        BIKER      497430.0\n",
       "12  2024-07-08       13       8592        BIKER      489791.0\n",
       "13  2024-07-08       14      15279        BIKER      487758.0\n",
       "14  2024-07-08       15      34079        BIKER      486136.0\n",
       "15  2024-07-08       16       1943        BIKER      483183.0\n",
       "16  2024-07-08       17       8771        BIKER      480084.0\n",
       "17  2024-07-08       18       1301        BIKER      474372.0\n",
       "18  2024-07-08       19       6675        BIKER      473240.0\n",
       "19  2024-07-08       20        196        BIKER      472256.0"
      ]
     },
     "execution_count": 28,
     "metadata": {},
     "output_type": "execute_result"
    }
   ],
   "source": [
    "ranking_bikers = ranking_geral[ranking_geral['driver_modal'] == 'BIKER']\n",
    "ranking_bikers.reset_index(drop = True, inplace = True)\n",
    "ranking_bikers['placing'] = ranking_bikers.index + 1\n",
    "ranking_bikers.head(20)"
   ]
  },
  {
   "cell_type": "code",
   "execution_count": 29,
   "metadata": {},
   "outputs": [
    {
     "name": "stdout",
     "output_type": "stream",
     "text": [
      "Planilha salva em ../data/processed/ranking_entregadores.xlsx\n"
     ]
    }
   ],
   "source": [
    "file_name = '../data/processed/ranking_entregadores.xlsx'\n",
    "\n",
    "with pd.ExcelWriter(file_name, engine = 'xlsxwriter') as writer:\n",
    "    ranking_geral.to_excel(writer, sheet_name = 'Ranking Geral', index = False)\n",
    "    ranking_motoboys.to_excel(writer, sheet_name = 'Ranking dos Motoboys', index = False)\n",
    "    ranking_bikers.to_excel(writer, sheet_name = 'Ranking dos Bikers', index = False)"
   ]
  },
  {
   "cell_type": "markdown",
   "metadata": {},
   "source": [
    "## 3.2. Distância média percorrida em cada estado"
   ]
  },
  {
   "cell_type": "code",
   "execution_count": 82,
   "metadata": {},
   "outputs": [
    {
     "data": {
      "text/html": [
       "<div>\n",
       "<style scoped>\n",
       "    .dataframe tbody tr th:only-of-type {\n",
       "        vertical-align: middle;\n",
       "    }\n",
       "\n",
       "    .dataframe tbody tr th {\n",
       "        vertical-align: top;\n",
       "    }\n",
       "\n",
       "    .dataframe thead th {\n",
       "        text-align: right;\n",
       "    }\n",
       "</style>\n",
       "<table border=\"1\" class=\"dataframe\">\n",
       "  <thead>\n",
       "    <tr style=\"text-align: right;\">\n",
       "      <th></th>\n",
       "      <th>dt_ref</th>\n",
       "      <th>hub_state</th>\n",
       "      <th>total_drivers</th>\n",
       "      <th>mean_delivery_distance</th>\n",
       "    </tr>\n",
       "  </thead>\n",
       "  <tbody>\n",
       "    <tr>\n",
       "      <th>2</th>\n",
       "      <td>2024-07-08</td>\n",
       "      <td>RS</td>\n",
       "      <td>216</td>\n",
       "      <td>2890.157412</td>\n",
       "    </tr>\n",
       "    <tr>\n",
       "      <th>0</th>\n",
       "      <td>2024-07-08</td>\n",
       "      <td>PR</td>\n",
       "      <td>291</td>\n",
       "      <td>2624.129476</td>\n",
       "    </tr>\n",
       "    <tr>\n",
       "      <th>3</th>\n",
       "      <td>2024-07-08</td>\n",
       "      <td>SP</td>\n",
       "      <td>2051</td>\n",
       "      <td>2246.582950</td>\n",
       "    </tr>\n",
       "    <tr>\n",
       "      <th>1</th>\n",
       "      <td>2024-07-08</td>\n",
       "      <td>RJ</td>\n",
       "      <td>1907</td>\n",
       "      <td>2010.072113</td>\n",
       "    </tr>\n",
       "  </tbody>\n",
       "</table>\n",
       "</div>"
      ],
      "text/plain": [
       "       dt_ref hub_state  total_drivers  mean_delivery_distance\n",
       "2  2024-07-08        RS            216             2890.157412\n",
       "0  2024-07-08        PR            291             2624.129476\n",
       "3  2024-07-08        SP           2051             2246.582950\n",
       "1  2024-07-08        RJ           1907             2010.072113"
      ]
     },
     "execution_count": 82,
     "metadata": {},
     "output_type": "execute_result"
    }
   ],
   "source": [
    "dist = df.groupby('hub_state').agg(total_drivers = ('driver_id', 'nunique'), mean_delivery_distance = ('delivery_distance_meters', 'mean')).reset_index().sort_values(by = 'mean_delivery_distance', ascending=False)\n",
    "dist['dt_ref'] = '2024-07-08'\n",
    "dist = dist[['dt_ref', 'hub_state', 'total_drivers', 'mean_delivery_distance']]\n",
    "dist"
   ]
  },
  {
   "cell_type": "markdown",
   "metadata": {},
   "source": [
    "## 3.3. Receitas"
   ]
  },
  {
   "cell_type": "markdown",
   "metadata": {},
   "source": [
    "#### Receita média: Good x Food"
   ]
  },
  {
   "cell_type": "code",
   "execution_count": 67,
   "metadata": {},
   "outputs": [
    {
     "data": {
      "text/html": [
       "<div>\n",
       "<style scoped>\n",
       "    .dataframe tbody tr th:only-of-type {\n",
       "        vertical-align: middle;\n",
       "    }\n",
       "\n",
       "    .dataframe tbody tr th {\n",
       "        vertical-align: top;\n",
       "    }\n",
       "\n",
       "    .dataframe thead th {\n",
       "        text-align: right;\n",
       "    }\n",
       "</style>\n",
       "<table border=\"1\" class=\"dataframe\">\n",
       "  <thead>\n",
       "    <tr style=\"text-align: right;\">\n",
       "      <th></th>\n",
       "      <th>dt_ref</th>\n",
       "      <th>store_id</th>\n",
       "      <th>hub_state</th>\n",
       "      <th>store_segment</th>\n",
       "      <th>mean_order_revenue</th>\n",
       "    </tr>\n",
       "  </thead>\n",
       "  <tbody>\n",
       "    <tr>\n",
       "      <th>0</th>\n",
       "      <td>2024-07-09</td>\n",
       "      <td>6</td>\n",
       "      <td>RS</td>\n",
       "      <td>FOOD</td>\n",
       "      <td>2.48</td>\n",
       "    </tr>\n",
       "    <tr>\n",
       "      <th>1</th>\n",
       "      <td>2024-07-09</td>\n",
       "      <td>8</td>\n",
       "      <td>RS</td>\n",
       "      <td>FOOD</td>\n",
       "      <td>1.50</td>\n",
       "    </tr>\n",
       "    <tr>\n",
       "      <th>2</th>\n",
       "      <td>2024-07-09</td>\n",
       "      <td>53</td>\n",
       "      <td>RJ</td>\n",
       "      <td>FOOD</td>\n",
       "      <td>4.51</td>\n",
       "    </tr>\n",
       "    <tr>\n",
       "      <th>3</th>\n",
       "      <td>2024-07-09</td>\n",
       "      <td>54</td>\n",
       "      <td>RJ</td>\n",
       "      <td>FOOD</td>\n",
       "      <td>7.24</td>\n",
       "    </tr>\n",
       "    <tr>\n",
       "      <th>4</th>\n",
       "      <td>2024-07-09</td>\n",
       "      <td>56</td>\n",
       "      <td>RJ</td>\n",
       "      <td>FOOD</td>\n",
       "      <td>-2.73</td>\n",
       "    </tr>\n",
       "    <tr>\n",
       "      <th>...</th>\n",
       "      <td>...</td>\n",
       "      <td>...</td>\n",
       "      <td>...</td>\n",
       "      <td>...</td>\n",
       "      <td>...</td>\n",
       "    </tr>\n",
       "    <tr>\n",
       "      <th>804</th>\n",
       "      <td>2024-07-09</td>\n",
       "      <td>4637</td>\n",
       "      <td>RJ</td>\n",
       "      <td>FOOD</td>\n",
       "      <td>3.82</td>\n",
       "    </tr>\n",
       "    <tr>\n",
       "      <th>805</th>\n",
       "      <td>2024-07-09</td>\n",
       "      <td>4648</td>\n",
       "      <td>SP</td>\n",
       "      <td>FOOD</td>\n",
       "      <td>1.92</td>\n",
       "    </tr>\n",
       "    <tr>\n",
       "      <th>806</th>\n",
       "      <td>2024-07-09</td>\n",
       "      <td>4650</td>\n",
       "      <td>SP</td>\n",
       "      <td>FOOD</td>\n",
       "      <td>9.66</td>\n",
       "    </tr>\n",
       "    <tr>\n",
       "      <th>807</th>\n",
       "      <td>2024-07-09</td>\n",
       "      <td>4675</td>\n",
       "      <td>RJ</td>\n",
       "      <td>GOOD</td>\n",
       "      <td>15.55</td>\n",
       "    </tr>\n",
       "    <tr>\n",
       "      <th>808</th>\n",
       "      <td>2024-07-09</td>\n",
       "      <td>4679</td>\n",
       "      <td>SP</td>\n",
       "      <td>FOOD</td>\n",
       "      <td>-3.65</td>\n",
       "    </tr>\n",
       "  </tbody>\n",
       "</table>\n",
       "<p>809 rows × 5 columns</p>\n",
       "</div>"
      ],
      "text/plain": [
       "         dt_ref  store_id hub_state store_segment  mean_order_revenue\n",
       "0    2024-07-09         6        RS          FOOD                2.48\n",
       "1    2024-07-09         8        RS          FOOD                1.50\n",
       "2    2024-07-09        53        RJ          FOOD                4.51\n",
       "3    2024-07-09        54        RJ          FOOD                7.24\n",
       "4    2024-07-09        56        RJ          FOOD               -2.73\n",
       "..          ...       ...       ...           ...                 ...\n",
       "804  2024-07-09      4637        RJ          FOOD                3.82\n",
       "805  2024-07-09      4648        SP          FOOD                1.92\n",
       "806  2024-07-09      4650        SP          FOOD                9.66\n",
       "807  2024-07-09      4675        RJ          GOOD               15.55\n",
       "808  2024-07-09      4679        SP          FOOD               -3.65\n",
       "\n",
       "[809 rows x 5 columns]"
      ]
     },
     "execution_count": 67,
     "metadata": {},
     "output_type": "execute_result"
    }
   ],
   "source": [
    "mean_revenue = df.groupby(['store_id', 'hub_state', 'store_segment']).agg(mean_order_revenue = ('order_revenue', 'mean')).reset_index()\n",
    "mean_revenue['mean_order_revenue'] = mean_revenue['mean_order_revenue'].round(2)\n",
    "mean_revenue['dt_ref'] = '2024-07-09'\n",
    "mean_revenue = mean_revenue[['dt_ref', 'store_id', 'hub_state', 'store_segment', 'mean_order_revenue']]\n",
    "mean_revenue"
   ]
  },
  {
   "cell_type": "code",
   "execution_count": 91,
   "metadata": {},
   "outputs": [
    {
     "data": {
      "text/html": [
       "<div>\n",
       "<style scoped>\n",
       "    .dataframe tbody tr th:only-of-type {\n",
       "        vertical-align: middle;\n",
       "    }\n",
       "\n",
       "    .dataframe tbody tr th {\n",
       "        vertical-align: top;\n",
       "    }\n",
       "\n",
       "    .dataframe thead th {\n",
       "        text-align: right;\n",
       "    }\n",
       "</style>\n",
       "<table border=\"1\" class=\"dataframe\">\n",
       "  <thead>\n",
       "    <tr style=\"text-align: right;\">\n",
       "      <th></th>\n",
       "      <th>store_segment</th>\n",
       "      <th>mean_order_revenue</th>\n",
       "    </tr>\n",
       "  </thead>\n",
       "  <tbody>\n",
       "    <tr>\n",
       "      <th>0</th>\n",
       "      <td>FOOD</td>\n",
       "      <td>6.08</td>\n",
       "    </tr>\n",
       "    <tr>\n",
       "      <th>1</th>\n",
       "      <td>GOOD</td>\n",
       "      <td>12.61</td>\n",
       "    </tr>\n",
       "  </tbody>\n",
       "</table>\n",
       "</div>"
      ],
      "text/plain": [
       "  store_segment  mean_order_revenue\n",
       "0          FOOD                6.08\n",
       "1          GOOD               12.61"
      ]
     },
     "execution_count": 91,
     "metadata": {},
     "output_type": "execute_result"
    }
   ],
   "source": [
    "# Observando os dados absolutos\n",
    "\n",
    "absm_revenue = df.groupby('store_segment').agg(mean_order_revenue = ('order_revenue', 'mean')).round(2).reset_index()\n",
    "absm_revenue"
   ]
  },
  {
   "cell_type": "code",
   "execution_count": 94,
   "metadata": {},
   "outputs": [
    {
     "data": {
      "image/png": "[encoded data removed]",
      "text/plain": [
       "<Figure size 800x600 with 1 Axes>"
      ]
     },
     "metadata": {},
     "output_type": "display_data"
    }
   ],
   "source": [
    "fig = plt.figure(figsize = (8, 6))\n",
    "ax = fig.add_axes([0, 0, 1 , 1])\n",
    "\n",
    "sns.barplot(absm_revenue, x = 'mean_order_revenue', y = 'store_segment', palette = my_palette)\n",
    "ax.set_title('Receita Média por Segmento', loc = 'left', fontsize = 18, pad = 10)\n",
    "ax.set_xlabel('Receita (R$)', fontsize = 10)\n",
    "ax.set_ylabel('')\n",
    "plt.show()"
   ]
  },
  {
   "cell_type": "markdown",
   "metadata": {},
   "source": [
    "#### Receita total: Good x Food"
   ]
  },
  {
   "cell_type": "code",
   "execution_count": 65,
   "metadata": {},
   "outputs": [
    {
     "data": {
      "text/html": [
       "<div>\n",
       "<style scoped>\n",
       "    .dataframe tbody tr th:only-of-type {\n",
       "        vertical-align: middle;\n",
       "    }\n",
       "\n",
       "    .dataframe tbody tr th {\n",
       "        vertical-align: top;\n",
       "    }\n",
       "\n",
       "    .dataframe thead th {\n",
       "        text-align: right;\n",
       "    }\n",
       "</style>\n",
       "<table border=\"1\" class=\"dataframe\">\n",
       "  <thead>\n",
       "    <tr style=\"text-align: right;\">\n",
       "      <th></th>\n",
       "      <th>dt_ref</th>\n",
       "      <th>store_id</th>\n",
       "      <th>hub_state</th>\n",
       "      <th>store_segment</th>\n",
       "      <th>total_order_revenue</th>\n",
       "    </tr>\n",
       "  </thead>\n",
       "  <tbody>\n",
       "    <tr>\n",
       "      <th>0</th>\n",
       "      <td>2024-07-08</td>\n",
       "      <td>6</td>\n",
       "      <td>RS</td>\n",
       "      <td>FOOD</td>\n",
       "      <td>8777.10</td>\n",
       "    </tr>\n",
       "    <tr>\n",
       "      <th>1</th>\n",
       "      <td>2024-07-08</td>\n",
       "      <td>8</td>\n",
       "      <td>RS</td>\n",
       "      <td>FOOD</td>\n",
       "      <td>3353.08</td>\n",
       "    </tr>\n",
       "    <tr>\n",
       "      <th>2</th>\n",
       "      <td>2024-07-08</td>\n",
       "      <td>53</td>\n",
       "      <td>RJ</td>\n",
       "      <td>FOOD</td>\n",
       "      <td>61494.93</td>\n",
       "    </tr>\n",
       "    <tr>\n",
       "      <th>3</th>\n",
       "      <td>2024-07-08</td>\n",
       "      <td>54</td>\n",
       "      <td>RJ</td>\n",
       "      <td>FOOD</td>\n",
       "      <td>535.43</td>\n",
       "    </tr>\n",
       "    <tr>\n",
       "      <th>4</th>\n",
       "      <td>2024-07-08</td>\n",
       "      <td>56</td>\n",
       "      <td>RJ</td>\n",
       "      <td>FOOD</td>\n",
       "      <td>-8643.39</td>\n",
       "    </tr>\n",
       "    <tr>\n",
       "      <th>...</th>\n",
       "      <td>...</td>\n",
       "      <td>...</td>\n",
       "      <td>...</td>\n",
       "      <td>...</td>\n",
       "      <td>...</td>\n",
       "    </tr>\n",
       "    <tr>\n",
       "      <th>804</th>\n",
       "      <td>2024-07-08</td>\n",
       "      <td>4637</td>\n",
       "      <td>RJ</td>\n",
       "      <td>FOOD</td>\n",
       "      <td>106.86</td>\n",
       "    </tr>\n",
       "    <tr>\n",
       "      <th>805</th>\n",
       "      <td>2024-07-08</td>\n",
       "      <td>4648</td>\n",
       "      <td>SP</td>\n",
       "      <td>FOOD</td>\n",
       "      <td>128.91</td>\n",
       "    </tr>\n",
       "    <tr>\n",
       "      <th>806</th>\n",
       "      <td>2024-07-08</td>\n",
       "      <td>4650</td>\n",
       "      <td>SP</td>\n",
       "      <td>FOOD</td>\n",
       "      <td>6590.25</td>\n",
       "    </tr>\n",
       "    <tr>\n",
       "      <th>807</th>\n",
       "      <td>2024-07-08</td>\n",
       "      <td>4675</td>\n",
       "      <td>RJ</td>\n",
       "      <td>GOOD</td>\n",
       "      <td>15.55</td>\n",
       "    </tr>\n",
       "    <tr>\n",
       "      <th>808</th>\n",
       "      <td>2024-07-08</td>\n",
       "      <td>4679</td>\n",
       "      <td>SP</td>\n",
       "      <td>FOOD</td>\n",
       "      <td>-262.98</td>\n",
       "    </tr>\n",
       "  </tbody>\n",
       "</table>\n",
       "<p>809 rows × 5 columns</p>\n",
       "</div>"
      ],
      "text/plain": [
       "         dt_ref  store_id hub_state store_segment  total_order_revenue\n",
       "0    2024-07-08         6        RS          FOOD              8777.10\n",
       "1    2024-07-08         8        RS          FOOD              3353.08\n",
       "2    2024-07-08        53        RJ          FOOD             61494.93\n",
       "3    2024-07-08        54        RJ          FOOD               535.43\n",
       "4    2024-07-08        56        RJ          FOOD             -8643.39\n",
       "..          ...       ...       ...           ...                  ...\n",
       "804  2024-07-08      4637        RJ          FOOD               106.86\n",
       "805  2024-07-08      4648        SP          FOOD               128.91\n",
       "806  2024-07-08      4650        SP          FOOD              6590.25\n",
       "807  2024-07-08      4675        RJ          GOOD                15.55\n",
       "808  2024-07-08      4679        SP          FOOD              -262.98\n",
       "\n",
       "[809 rows x 5 columns]"
      ]
     },
     "execution_count": 65,
     "metadata": {},
     "output_type": "execute_result"
    }
   ],
   "source": [
    "total_revenue = df.groupby(['store_id', 'hub_state', 'store_segment']).agg(total_order_revenue = ('order_revenue', 'sum')).reset_index()\n",
    "total_revenue['total_order_revenue'] = total_revenue['total_order_revenue'].round(2)\n",
    "total_revenue['dt_ref'] = '2024-07-08'\n",
    "total_revenue = total_revenue[['dt_ref', 'store_id', 'hub_state', 'store_segment', 'total_order_revenue']]\n",
    "total_revenue"
   ]
  },
  {
   "cell_type": "code",
   "execution_count": 95,
   "metadata": {},
   "outputs": [
    {
     "data": {
      "text/html": [
       "<div>\n",
       "<style scoped>\n",
       "    .dataframe tbody tr th:only-of-type {\n",
       "        vertical-align: middle;\n",
       "    }\n",
       "\n",
       "    .dataframe tbody tr th {\n",
       "        vertical-align: top;\n",
       "    }\n",
       "\n",
       "    .dataframe thead th {\n",
       "        text-align: right;\n",
       "    }\n",
       "</style>\n",
       "<table border=\"1\" class=\"dataframe\">\n",
       "  <thead>\n",
       "    <tr style=\"text-align: right;\">\n",
       "      <th></th>\n",
       "      <th>store_segment</th>\n",
       "      <th>total_order_revenue</th>\n",
       "    </tr>\n",
       "  </thead>\n",
       "  <tbody>\n",
       "    <tr>\n",
       "      <th>0</th>\n",
       "      <td>FOOD</td>\n",
       "      <td>1756841.99</td>\n",
       "    </tr>\n",
       "    <tr>\n",
       "      <th>1</th>\n",
       "      <td>GOOD</td>\n",
       "      <td>253492.26</td>\n",
       "    </tr>\n",
       "  </tbody>\n",
       "</table>\n",
       "</div>"
      ],
      "text/plain": [
       "  store_segment  total_order_revenue\n",
       "0          FOOD           1756841.99\n",
       "1          GOOD            253492.26"
      ]
     },
     "execution_count": 95,
     "metadata": {},
     "output_type": "execute_result"
    }
   ],
   "source": [
    "# Observando os dados absolutos\n",
    "\n",
    "abst_revenue = df.groupby('store_segment').agg(total_order_revenue = ('order_revenue', 'sum')).round(2).reset_index()\n",
    "abst_revenue"
   ]
  },
  {
   "cell_type": "code",
   "execution_count": 97,
   "metadata": {},
   "outputs": [
    {
     "data": {
      "image/png": "[encoded data removed]",
      "text/plain": [
       "<Figure size 800x600 with 1 Axes>"
      ]
     },
     "metadata": {},
     "output_type": "display_data"
    }
   ],
   "source": [
    "fig = plt.figure(figsize = (8, 6))\n",
    "ax = fig.add_axes([0, 0, 1 , 1])\n",
    "\n",
    "sns.barplot(abst_revenue, x = 'total_order_revenue', y = 'store_segment', palette = my_palette)\n",
    "ax.set_title('Receita Total por Segmento', loc = 'left', fontsize = 18, pad = 10)\n",
    "ax.set_xlabel('Receita (R$ x 1.000.000)', fontsize = 10)\n",
    "ax.set_ylabel('')\n",
    "plt.show()"
   ]
  },
  {
   "cell_type": "markdown",
   "metadata": {},
   "source": [
    "#### Receita média: estados"
   ]
  },
  {
   "cell_type": "code",
   "execution_count": 69,
   "metadata": {},
   "outputs": [
    {
     "data": {
      "text/html": [
       "<div>\n",
       "<style scoped>\n",
       "    .dataframe tbody tr th:only-of-type {\n",
       "        vertical-align: middle;\n",
       "    }\n",
       "\n",
       "    .dataframe tbody tr th {\n",
       "        vertical-align: top;\n",
       "    }\n",
       "\n",
       "    .dataframe thead th {\n",
       "        text-align: right;\n",
       "    }\n",
       "</style>\n",
       "<table border=\"1\" class=\"dataframe\">\n",
       "  <thead>\n",
       "    <tr style=\"text-align: right;\">\n",
       "      <th></th>\n",
       "      <th>dt_ref</th>\n",
       "      <th>hub_state</th>\n",
       "      <th>total_stores</th>\n",
       "      <th>total_drivers</th>\n",
       "      <th>mean_order_revenue</th>\n",
       "    </tr>\n",
       "  </thead>\n",
       "  <tbody>\n",
       "    <tr>\n",
       "      <th>0</th>\n",
       "      <td>2024-07-08</td>\n",
       "      <td>PR</td>\n",
       "      <td>100</td>\n",
       "      <td>291</td>\n",
       "      <td>2.40</td>\n",
       "    </tr>\n",
       "    <tr>\n",
       "      <th>1</th>\n",
       "      <td>2024-07-08</td>\n",
       "      <td>RJ</td>\n",
       "      <td>275</td>\n",
       "      <td>1907</td>\n",
       "      <td>6.52</td>\n",
       "    </tr>\n",
       "    <tr>\n",
       "      <th>2</th>\n",
       "      <td>2024-07-08</td>\n",
       "      <td>RS</td>\n",
       "      <td>40</td>\n",
       "      <td>216</td>\n",
       "      <td>4.14</td>\n",
       "    </tr>\n",
       "    <tr>\n",
       "      <th>3</th>\n",
       "      <td>2024-07-08</td>\n",
       "      <td>SP</td>\n",
       "      <td>394</td>\n",
       "      <td>2051</td>\n",
       "      <td>7.79</td>\n",
       "    </tr>\n",
       "  </tbody>\n",
       "</table>\n",
       "</div>"
      ],
      "text/plain": [
       "       dt_ref hub_state  total_stores  total_drivers  mean_order_revenue\n",
       "0  2024-07-08        PR           100            291                2.40\n",
       "1  2024-07-08        RJ           275           1907                6.52\n",
       "2  2024-07-08        RS            40            216                4.14\n",
       "3  2024-07-08        SP           394           2051                7.79"
      ]
     },
     "execution_count": 69,
     "metadata": {},
     "output_type": "execute_result"
    }
   ],
   "source": [
    "state_revenue = df.groupby(['hub_state']).agg(total_stores = ('store_id', 'nunique'), total_drivers = ('driver_id', 'nunique'), mean_order_revenue = ('order_revenue', 'mean')).reset_index()\n",
    "state_revenue['mean_order_revenue'] = state_revenue['mean_order_revenue'].round(2)\n",
    "state_revenue['dt_ref'] = '2024-07-08'\n",
    "state_revenue = state_revenue[['dt_ref', 'hub_state', 'total_stores', 'total_drivers', 'mean_order_revenue']]\n",
    "state_revenue"
   ]
  },
  {
   "cell_type": "code",
   "execution_count": 98,
   "metadata": {},
   "outputs": [
    {
     "data": {
      "text/html": [
       "<div>\n",
       "<style scoped>\n",
       "    .dataframe tbody tr th:only-of-type {\n",
       "        vertical-align: middle;\n",
       "    }\n",
       "\n",
       "    .dataframe tbody tr th {\n",
       "        vertical-align: top;\n",
       "    }\n",
       "\n",
       "    .dataframe thead th {\n",
       "        text-align: right;\n",
       "    }\n",
       "</style>\n",
       "<table border=\"1\" class=\"dataframe\">\n",
       "  <thead>\n",
       "    <tr style=\"text-align: right;\">\n",
       "      <th></th>\n",
       "      <th>hub_state</th>\n",
       "      <th>mean_order_revenue</th>\n",
       "    </tr>\n",
       "  </thead>\n",
       "  <tbody>\n",
       "    <tr>\n",
       "      <th>3</th>\n",
       "      <td>SP</td>\n",
       "      <td>7.79</td>\n",
       "    </tr>\n",
       "    <tr>\n",
       "      <th>1</th>\n",
       "      <td>RJ</td>\n",
       "      <td>6.52</td>\n",
       "    </tr>\n",
       "    <tr>\n",
       "      <th>2</th>\n",
       "      <td>RS</td>\n",
       "      <td>4.14</td>\n",
       "    </tr>\n",
       "    <tr>\n",
       "      <th>0</th>\n",
       "      <td>PR</td>\n",
       "      <td>2.40</td>\n",
       "    </tr>\n",
       "  </tbody>\n",
       "</table>\n",
       "</div>"
      ],
      "text/plain": [
       "  hub_state  mean_order_revenue\n",
       "3        SP                7.79\n",
       "1        RJ                6.52\n",
       "2        RS                4.14\n",
       "0        PR                2.40"
      ]
     },
     "execution_count": 98,
     "metadata": {},
     "output_type": "execute_result"
    }
   ],
   "source": [
    "# Observando os dados absolutos \n",
    "\n",
    "abstate_mean = df.groupby('hub_state').agg(mean_order_revenue = ('order_revenue', 'mean')).round(2).reset_index().sort_values(by = 'mean_order_revenue', ascending = False)\n",
    "abstate_mean"
   ]
  },
  {
   "cell_type": "code",
   "execution_count": 100,
   "metadata": {},
   "outputs": [
    {
     "data": {
      "image/png": "[encoded data removed]",
      "text/plain": [
       "<Figure size 800x600 with 1 Axes>"
      ]
     },
     "metadata": {},
     "output_type": "display_data"
    }
   ],
   "source": [
    "fig = plt.figure(figsize = (8, 6))\n",
    "ax = fig.add_axes([0, 0, 1 , 1])\n",
    "\n",
    "sns.barplot(abstate_mean, x = 'mean_order_revenue', y = 'hub_state', palette = my_palette)\n",
    "ax.set_title('Receita Média por Estado', loc = 'left', fontsize = 18, pad = 10)\n",
    "ax.set_xlabel('Receita (R$)', fontsize = 10)\n",
    "ax.set_ylabel('')\n",
    "plt.show()"
   ]
  },
  {
   "cell_type": "markdown",
   "metadata": {},
   "source": [
    "#### Receita total: estados"
   ]
  },
  {
   "cell_type": "code",
   "execution_count": 70,
   "metadata": {},
   "outputs": [
    {
     "data": {
      "text/html": [
       "<div>\n",
       "<style scoped>\n",
       "    .dataframe tbody tr th:only-of-type {\n",
       "        vertical-align: middle;\n",
       "    }\n",
       "\n",
       "    .dataframe tbody tr th {\n",
       "        vertical-align: top;\n",
       "    }\n",
       "\n",
       "    .dataframe thead th {\n",
       "        text-align: right;\n",
       "    }\n",
       "</style>\n",
       "<table border=\"1\" class=\"dataframe\">\n",
       "  <thead>\n",
       "    <tr style=\"text-align: right;\">\n",
       "      <th></th>\n",
       "      <th>dt_ref</th>\n",
       "      <th>hub_state</th>\n",
       "      <th>total_stores</th>\n",
       "      <th>total_drivers</th>\n",
       "      <th>total_order_revenue</th>\n",
       "    </tr>\n",
       "  </thead>\n",
       "  <tbody>\n",
       "    <tr>\n",
       "      <th>0</th>\n",
       "      <td>2024-07-08</td>\n",
       "      <td>PR</td>\n",
       "      <td>100</td>\n",
       "      <td>291</td>\n",
       "      <td>60085.45</td>\n",
       "    </tr>\n",
       "    <tr>\n",
       "      <th>1</th>\n",
       "      <td>2024-07-08</td>\n",
       "      <td>RJ</td>\n",
       "      <td>275</td>\n",
       "      <td>1907</td>\n",
       "      <td>785328.08</td>\n",
       "    </tr>\n",
       "    <tr>\n",
       "      <th>2</th>\n",
       "      <td>2024-07-08</td>\n",
       "      <td>RS</td>\n",
       "      <td>40</td>\n",
       "      <td>216</td>\n",
       "      <td>123573.03</td>\n",
       "    </tr>\n",
       "    <tr>\n",
       "      <th>3</th>\n",
       "      <td>2024-07-08</td>\n",
       "      <td>SP</td>\n",
       "      <td>394</td>\n",
       "      <td>2051</td>\n",
       "      <td>1041347.69</td>\n",
       "    </tr>\n",
       "  </tbody>\n",
       "</table>\n",
       "</div>"
      ],
      "text/plain": [
       "       dt_ref hub_state  total_stores  total_drivers  total_order_revenue\n",
       "0  2024-07-08        PR           100            291             60085.45\n",
       "1  2024-07-08        RJ           275           1907            785328.08\n",
       "2  2024-07-08        RS            40            216            123573.03\n",
       "3  2024-07-08        SP           394           2051           1041347.69"
      ]
     },
     "execution_count": 70,
     "metadata": {},
     "output_type": "execute_result"
    }
   ],
   "source": [
    "state_total = df.groupby(['hub_state']).agg(total_stores = ('store_id', 'nunique'), total_drivers = ('driver_id', 'nunique'), total_order_revenue = ('order_revenue', 'sum')).reset_index()\n",
    "state_total['total_order_revenue'] = state_total['total_order_revenue'].round(2)\n",
    "state_total['dt_ref'] = '2024-07-08'\n",
    "state_total = state_total[['dt_ref', 'hub_state', 'total_stores', 'total_drivers', 'total_order_revenue']]\n",
    "state_total"
   ]
  },
  {
   "cell_type": "code",
   "execution_count": 103,
   "metadata": {},
   "outputs": [
    {
     "data": {
      "text/html": [
       "<div>\n",
       "<style scoped>\n",
       "    .dataframe tbody tr th:only-of-type {\n",
       "        vertical-align: middle;\n",
       "    }\n",
       "\n",
       "    .dataframe tbody tr th {\n",
       "        vertical-align: top;\n",
       "    }\n",
       "\n",
       "    .dataframe thead th {\n",
       "        text-align: right;\n",
       "    }\n",
       "</style>\n",
       "<table border=\"1\" class=\"dataframe\">\n",
       "  <thead>\n",
       "    <tr style=\"text-align: right;\">\n",
       "      <th></th>\n",
       "      <th>hub_state</th>\n",
       "      <th>total_orders_revenue</th>\n",
       "    </tr>\n",
       "  </thead>\n",
       "  <tbody>\n",
       "    <tr>\n",
       "      <th>3</th>\n",
       "      <td>SP</td>\n",
       "      <td>1041347.69</td>\n",
       "    </tr>\n",
       "    <tr>\n",
       "      <th>1</th>\n",
       "      <td>RJ</td>\n",
       "      <td>785328.08</td>\n",
       "    </tr>\n",
       "    <tr>\n",
       "      <th>2</th>\n",
       "      <td>RS</td>\n",
       "      <td>123573.03</td>\n",
       "    </tr>\n",
       "    <tr>\n",
       "      <th>0</th>\n",
       "      <td>PR</td>\n",
       "      <td>60085.45</td>\n",
       "    </tr>\n",
       "  </tbody>\n",
       "</table>\n",
       "</div>"
      ],
      "text/plain": [
       "  hub_state  total_orders_revenue\n",
       "3        SP            1041347.69\n",
       "1        RJ             785328.08\n",
       "2        RS             123573.03\n",
       "0        PR              60085.45"
      ]
     },
     "execution_count": 103,
     "metadata": {},
     "output_type": "execute_result"
    }
   ],
   "source": [
    "# Observando os dados absolutos\n",
    "\n",
    "abstate_total = df.groupby('hub_state').agg(total_orders_revenue = ('order_revenue', 'sum')).round(2).reset_index().sort_values(by = 'total_orders_revenue', ascending = False)\n",
    "abstate_total"
   ]
  },
  {
   "cell_type": "code",
   "execution_count": 104,
   "metadata": {},
   "outputs": [
    {
     "data": {
      "image/png": "[encoded data removed]",
      "text/plain": [
       "<Figure size 800x600 with 1 Axes>"
      ]
     },
     "metadata": {},
     "output_type": "display_data"
    }
   ],
   "source": [
    "fig = plt.figure(figsize = (8, 6))\n",
    "ax = fig.add_axes([0, 0, 1 , 1])\n",
    "\n",
    "sns.barplot(abstate_total, x = 'total_orders_revenue', y = 'hub_state', palette = my_palette)\n",
    "ax.set_title('Receita Total por Estado', loc = 'left', fontsize = 18, pad = 10)\n",
    "ax.set_xlabel('Receita (R$)', fontsize = 10)\n",
    "ax.set_ylabel('')\n",
    "plt.show()"
   ]
  },
  {
   "cell_type": "markdown",
   "metadata": {},
   "source": [
    "Os resultados serão salvos em uma planilha, assim como os dos entregadores."
   ]
  },
  {
   "cell_type": "code",
   "execution_count": 71,
   "metadata": {},
   "outputs": [],
   "source": [
    "file_name = '../data/processed/receitas_goodxfood.xlsx'\n",
    "\n",
    "with pd.ExcelWriter(file_name, engine = 'xlsxwriter') as writer:\n",
    "    mean_revenue.to_excel(writer, sheet_name = 'Receita Média Good x Food', index = False)\n",
    "    total_revenue.to_excel(writer, sheet_name = 'Receita Total Good x Food', index = False)\n",
    "    state_revenue.to_excel(writer, sheet_name = 'Receita Média Estados', index = False)\n",
    "    state_total.to_excel(writer, sheet_name = 'Receita Total Estados', index = False)"
   ]
  },
  {
   "cell_type": "markdown",
   "metadata": {},
   "source": [
    "## 3.4. Bônus para os funcionários"
   ]
  },
  {
   "cell_type": "code",
   "execution_count": 79,
   "metadata": {},
   "outputs": [
    {
     "name": "stdout",
     "output_type": "stream",
     "text": [
      "O faturamento total foi de R$2010334.24 e o bônus para o funcionários é de R$201.03.\n"
     ]
    }
   ],
   "source": [
    "print(f\"O faturamento total foi de R${round(df['order_revenue'].sum(), 2)} e o bônus para o funcionários é de R${round(((df['order_revenue'].sum() * 0.20) / 2000), 2)}.\")"
   ]
  }
 ],
 "metadata": {
  "kernelspec": {
   "display_name": "base",
   "language": "python",
   "name": "python3"
  },
  "language_info": {
   "codemirror_mode": {
    "name": "ipython",
    "version": 3
   },
   "file_extension": ".py",
   "mimetype": "text/x-python",
   "name": "python",
   "nbconvert_exporter": "python",
   "pygments_lexer": "ipython3",
   "version": "3.11.7"
  }
 },
 "nbformat": 4,
 "nbformat_minor": 2
}
